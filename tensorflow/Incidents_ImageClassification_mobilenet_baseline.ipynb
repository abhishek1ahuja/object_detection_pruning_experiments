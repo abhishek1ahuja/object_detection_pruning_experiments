{
 "cells": [
  {
   "cell_type": "code",
   "execution_count": 1,
   "id": "bdc4b4e5-ef7c-42d2-953c-7785e399cc17",
   "metadata": {},
   "outputs": [
    {
     "name": "stderr",
     "output_type": "stream",
     "text": [
      "2023-10-17 14:33:07.969206: I tensorflow/core/platform/cpu_feature_guard.cc:182] This TensorFlow binary is optimized to use available CPU instructions in performance-critical operations.\n",
      "To enable the following instructions: AVX2 FMA, in other operations, rebuild TensorFlow with the appropriate compiler flags.\n",
      "2023-10-17 14:33:09.472379: W tensorflow/compiler/tf2tensorrt/utils/py_utils.cc:38] TF-TRT Warning: Could not find TensorRT\n"
     ]
    }
   ],
   "source": [
    "import matplotlib.pyplot as plt\n",
    "import numpy as np\n",
    "import os\n",
    "import tensorflow as tf"
   ]
  },
  {
   "cell_type": "code",
   "execution_count": 2,
   "id": "543b320e-4664-4587-ae5b-c3d0a65c5285",
   "metadata": {},
   "outputs": [],
   "source": [
    "import tempfile"
   ]
  },
  {
   "cell_type": "code",
   "execution_count": 3,
   "id": "3f988af4-6b00-4d2c-9250-07a61f13520a",
   "metadata": {},
   "outputs": [],
   "source": [
    "import tensorflow_model_optimization as tfmot\n",
    "from tensorflow_model_optimization.sparsity import keras as sparsity"
   ]
  },
  {
   "cell_type": "code",
   "execution_count": 4,
   "id": "d4b7b939-ce29-4e5d-b2a5-9408b8919aa6",
   "metadata": {},
   "outputs": [
    {
     "name": "stdout",
     "output_type": "stream",
     "text": [
      "Num GPUs Available:  1\n"
     ]
    },
    {
     "name": "stderr",
     "output_type": "stream",
     "text": [
      "2023-10-17 14:33:11.839196: I tensorflow/compiler/xla/stream_executor/cuda/cuda_gpu_executor.cc:995] successful NUMA node read from SysFS had negative value (-1), but there must be at least one NUMA node, so returning NUMA node zero. See more at https://github.com/torvalds/linux/blob/v6.0/Documentation/ABI/testing/sysfs-bus-pci#L344-L355\n",
      "2023-10-17 14:33:11.876533: I tensorflow/compiler/xla/stream_executor/cuda/cuda_gpu_executor.cc:995] successful NUMA node read from SysFS had negative value (-1), but there must be at least one NUMA node, so returning NUMA node zero. See more at https://github.com/torvalds/linux/blob/v6.0/Documentation/ABI/testing/sysfs-bus-pci#L344-L355\n",
      "2023-10-17 14:33:11.876767: I tensorflow/compiler/xla/stream_executor/cuda/cuda_gpu_executor.cc:995] successful NUMA node read from SysFS had negative value (-1), but there must be at least one NUMA node, so returning NUMA node zero. See more at https://github.com/torvalds/linux/blob/v6.0/Documentation/ABI/testing/sysfs-bus-pci#L344-L355\n"
     ]
    }
   ],
   "source": [
    "print(\"Num GPUs Available: \", len(tf.config.list_physical_devices('GPU')))"
   ]
  },
  {
   "cell_type": "markdown",
   "id": "d1d8a997-5652-4b43-a455-3b002221a31d",
   "metadata": {},
   "source": [
    "### 1. Initialising Dataset"
   ]
  },
  {
   "cell_type": "code",
   "execution_count": 5,
   "id": "c528a5ea-6ad3-4fb2-82fa-ac4ea00b93a5",
   "metadata": {},
   "outputs": [
    {
     "name": "stdout",
     "output_type": "stream",
     "text": [
      "Found 4704 files belonging to 12 classes.\n",
      "Found 1176 files belonging to 12 classes.\n"
     ]
    },
    {
     "name": "stderr",
     "output_type": "stream",
     "text": [
      "2023-10-17 14:33:12.224231: I tensorflow/compiler/xla/stream_executor/cuda/cuda_gpu_executor.cc:995] successful NUMA node read from SysFS had negative value (-1), but there must be at least one NUMA node, so returning NUMA node zero. See more at https://github.com/torvalds/linux/blob/v6.0/Documentation/ABI/testing/sysfs-bus-pci#L344-L355\n",
      "2023-10-17 14:33:12.224437: I tensorflow/compiler/xla/stream_executor/cuda/cuda_gpu_executor.cc:995] successful NUMA node read from SysFS had negative value (-1), but there must be at least one NUMA node, so returning NUMA node zero. See more at https://github.com/torvalds/linux/blob/v6.0/Documentation/ABI/testing/sysfs-bus-pci#L344-L355\n",
      "2023-10-17 14:33:12.224570: I tensorflow/compiler/xla/stream_executor/cuda/cuda_gpu_executor.cc:995] successful NUMA node read from SysFS had negative value (-1), but there must be at least one NUMA node, so returning NUMA node zero. See more at https://github.com/torvalds/linux/blob/v6.0/Documentation/ABI/testing/sysfs-bus-pci#L344-L355\n",
      "2023-10-17 14:33:12.301729: I tensorflow/compiler/xla/stream_executor/cuda/cuda_gpu_executor.cc:995] successful NUMA node read from SysFS had negative value (-1), but there must be at least one NUMA node, so returning NUMA node zero. See more at https://github.com/torvalds/linux/blob/v6.0/Documentation/ABI/testing/sysfs-bus-pci#L344-L355\n",
      "2023-10-17 14:33:12.302000: I tensorflow/compiler/xla/stream_executor/cuda/cuda_gpu_executor.cc:995] successful NUMA node read from SysFS had negative value (-1), but there must be at least one NUMA node, so returning NUMA node zero. See more at https://github.com/torvalds/linux/blob/v6.0/Documentation/ABI/testing/sysfs-bus-pci#L344-L355\n",
      "2023-10-17 14:33:12.302161: I tensorflow/compiler/xla/stream_executor/cuda/cuda_gpu_executor.cc:995] successful NUMA node read from SysFS had negative value (-1), but there must be at least one NUMA node, so returning NUMA node zero. See more at https://github.com/torvalds/linux/blob/v6.0/Documentation/ABI/testing/sysfs-bus-pci#L344-L355\n",
      "2023-10-17 14:33:12.302682: I tensorflow/core/common_runtime/gpu/gpu_device.cc:1639] Created device /job:localhost/replica:0/task:0/device:GPU:0 with 750 MB memory:  -> device: 0, name: Quadro T1000 with Max-Q Design, pci bus id: 0000:01:00.0, compute capability: 7.5\n"
     ]
    },
    {
     "name": "stdout",
     "output_type": "stream",
     "text": [
      "Found 4704 files belonging to 12 classes.\n"
     ]
    }
   ],
   "source": [
    "DATASET_ROOT_DIR = \"/media/abhishek/data/college/q11/data_science/Incidents-subset-20230213T155459Z-001/incidents-subset_2\"\n",
    "BATCH_SIZE = 32\n",
    "IMG_SIZE = (160,160)\n",
    "\n",
    "train_dir = os.path.join(DATASET_ROOT_DIR, 'trainset')\n",
    "val_dir = os.path.join(DATASET_ROOT_DIR, 'valset')\n",
    "test_dir = os.path.join(DATASET_ROOT_DIR, 'testset')\n",
    "\n",
    "trainset = tf.keras.utils.image_dataset_from_directory(train_dir,\n",
    "                                                        shuffle=True,\n",
    "                                                        batch_size=BATCH_SIZE,\n",
    "                                                        image_size=IMG_SIZE)\n",
    "\n",
    "valset = tf.keras.utils.image_dataset_from_directory(val_dir,\n",
    "                                                        shuffle=True,\n",
    "                                                        batch_size=BATCH_SIZE,\n",
    "                                                        image_size=IMG_SIZE)\n",
    "testset = tf.keras.utils.image_dataset_from_directory(train_dir,\n",
    "                                                        shuffle=True,\n",
    "                                                        batch_size=BATCH_SIZE,\n",
    "                                                        image_size=IMG_SIZE)"
   ]
  },
  {
   "cell_type": "code",
   "execution_count": null,
   "id": "00ab0c60-50ba-46c0-a2e9-c712f2cb0ddc",
   "metadata": {},
   "outputs": [],
   "source": []
  },
  {
   "cell_type": "code",
   "execution_count": null,
   "id": "c3f45179-98dd-4535-8f63-f7caa1b9b977",
   "metadata": {},
   "outputs": [],
   "source": [
    "\n"
   ]
  },
  {
   "cell_type": "code",
   "execution_count": 6,
   "id": "a710a9d7-1804-4374-863e-a0e78406738d",
   "metadata": {},
   "outputs": [
    {
     "ename": "InvalidArgumentError",
     "evalue": "{{function_node __wrapped__IteratorGetNext_output_types_2_device_/job:localhost/replica:0/task:0/device:CPU:0}} Unknown image file format. One of JPEG, PNG, GIF, BMP required.\n\t [[{{node decode_image/DecodeImage}}]] [Op:IteratorGetNext] name: ",
     "output_type": "error",
     "traceback": [
      "\u001b[0;31m---------------------------------------------------------------------------\u001b[0m",
      "\u001b[0;31mInvalidArgumentError\u001b[0m                      Traceback (most recent call last)",
      "Cell \u001b[0;32mIn[6], line 1\u001b[0m\n\u001b[0;32m----> 1\u001b[0m \u001b[38;5;28;01mfor\u001b[39;00m i, b \u001b[38;5;129;01min\u001b[39;00m trainset\u001b[38;5;241m.\u001b[39mtake(\u001b[38;5;241m4\u001b[39m):\n\u001b[1;32m      2\u001b[0m     \u001b[38;5;28mprint\u001b[39m(i\u001b[38;5;241m.\u001b[39mshape)\n\u001b[1;32m      3\u001b[0m     \u001b[38;5;28mprint\u001b[39m(b\u001b[38;5;241m.\u001b[39mshape)\n",
      "File \u001b[0;32m/media/abhishek/data/college/thesis/thesis_with_dr_duc/conda_envs/dlpruning_tf6.yml/lib/python3.11/site-packages/tensorflow/python/data/ops/iterator_ops.py:814\u001b[0m, in \u001b[0;36mOwnedIterator.__next__\u001b[0;34m(self)\u001b[0m\n\u001b[1;32m    812\u001b[0m \u001b[38;5;28;01mdef\u001b[39;00m \u001b[38;5;21m__next__\u001b[39m(\u001b[38;5;28mself\u001b[39m):\n\u001b[1;32m    813\u001b[0m   \u001b[38;5;28;01mtry\u001b[39;00m:\n\u001b[0;32m--> 814\u001b[0m     \u001b[38;5;28;01mreturn\u001b[39;00m \u001b[38;5;28;43mself\u001b[39;49m\u001b[38;5;241;43m.\u001b[39;49m\u001b[43m_next_internal\u001b[49m\u001b[43m(\u001b[49m\u001b[43m)\u001b[49m\n\u001b[1;32m    815\u001b[0m   \u001b[38;5;28;01mexcept\u001b[39;00m errors\u001b[38;5;241m.\u001b[39mOutOfRangeError:\n\u001b[1;32m    816\u001b[0m     \u001b[38;5;28;01mraise\u001b[39;00m \u001b[38;5;167;01mStopIteration\u001b[39;00m\n",
      "File \u001b[0;32m/media/abhishek/data/college/thesis/thesis_with_dr_duc/conda_envs/dlpruning_tf6.yml/lib/python3.11/site-packages/tensorflow/python/data/ops/iterator_ops.py:777\u001b[0m, in \u001b[0;36mOwnedIterator._next_internal\u001b[0;34m(self)\u001b[0m\n\u001b[1;32m    774\u001b[0m \u001b[38;5;66;03m# TODO(b/77291417): This runs in sync mode as iterators use an error status\u001b[39;00m\n\u001b[1;32m    775\u001b[0m \u001b[38;5;66;03m# to communicate that there is no more data to iterate over.\u001b[39;00m\n\u001b[1;32m    776\u001b[0m \u001b[38;5;28;01mwith\u001b[39;00m context\u001b[38;5;241m.\u001b[39mexecution_mode(context\u001b[38;5;241m.\u001b[39mSYNC):\n\u001b[0;32m--> 777\u001b[0m   ret \u001b[38;5;241m=\u001b[39m \u001b[43mgen_dataset_ops\u001b[49m\u001b[38;5;241;43m.\u001b[39;49m\u001b[43miterator_get_next\u001b[49m\u001b[43m(\u001b[49m\n\u001b[1;32m    778\u001b[0m \u001b[43m      \u001b[49m\u001b[38;5;28;43mself\u001b[39;49m\u001b[38;5;241;43m.\u001b[39;49m\u001b[43m_iterator_resource\u001b[49m\u001b[43m,\u001b[49m\n\u001b[1;32m    779\u001b[0m \u001b[43m      \u001b[49m\u001b[43moutput_types\u001b[49m\u001b[38;5;241;43m=\u001b[39;49m\u001b[38;5;28;43mself\u001b[39;49m\u001b[38;5;241;43m.\u001b[39;49m\u001b[43m_flat_output_types\u001b[49m\u001b[43m,\u001b[49m\n\u001b[1;32m    780\u001b[0m \u001b[43m      \u001b[49m\u001b[43moutput_shapes\u001b[49m\u001b[38;5;241;43m=\u001b[39;49m\u001b[38;5;28;43mself\u001b[39;49m\u001b[38;5;241;43m.\u001b[39;49m\u001b[43m_flat_output_shapes\u001b[49m\u001b[43m)\u001b[49m\n\u001b[1;32m    782\u001b[0m   \u001b[38;5;28;01mtry\u001b[39;00m:\n\u001b[1;32m    783\u001b[0m     \u001b[38;5;66;03m# Fast path for the case `self._structure` is not a nested structure.\u001b[39;00m\n\u001b[1;32m    784\u001b[0m     \u001b[38;5;28;01mreturn\u001b[39;00m \u001b[38;5;28mself\u001b[39m\u001b[38;5;241m.\u001b[39m_element_spec\u001b[38;5;241m.\u001b[39m_from_compatible_tensor_list(ret)  \u001b[38;5;66;03m# pylint: disable=protected-access\u001b[39;00m\n",
      "File \u001b[0;32m/media/abhishek/data/college/thesis/thesis_with_dr_duc/conda_envs/dlpruning_tf6.yml/lib/python3.11/site-packages/tensorflow/python/ops/gen_dataset_ops.py:3028\u001b[0m, in \u001b[0;36miterator_get_next\u001b[0;34m(iterator, output_types, output_shapes, name)\u001b[0m\n\u001b[1;32m   3026\u001b[0m   \u001b[38;5;28;01mreturn\u001b[39;00m _result\n\u001b[1;32m   3027\u001b[0m \u001b[38;5;28;01mexcept\u001b[39;00m _core\u001b[38;5;241m.\u001b[39m_NotOkStatusException \u001b[38;5;28;01mas\u001b[39;00m e:\n\u001b[0;32m-> 3028\u001b[0m   \u001b[43m_ops\u001b[49m\u001b[38;5;241;43m.\u001b[39;49m\u001b[43mraise_from_not_ok_status\u001b[49m\u001b[43m(\u001b[49m\u001b[43me\u001b[49m\u001b[43m,\u001b[49m\u001b[43m \u001b[49m\u001b[43mname\u001b[49m\u001b[43m)\u001b[49m\n\u001b[1;32m   3029\u001b[0m \u001b[38;5;28;01mexcept\u001b[39;00m _core\u001b[38;5;241m.\u001b[39m_FallbackException:\n\u001b[1;32m   3030\u001b[0m   \u001b[38;5;28;01mpass\u001b[39;00m\n",
      "File \u001b[0;32m/media/abhishek/data/college/thesis/thesis_with_dr_duc/conda_envs/dlpruning_tf6.yml/lib/python3.11/site-packages/tensorflow/python/framework/ops.py:6656\u001b[0m, in \u001b[0;36mraise_from_not_ok_status\u001b[0;34m(e, name)\u001b[0m\n\u001b[1;32m   6654\u001b[0m \u001b[38;5;28;01mdef\u001b[39;00m \u001b[38;5;21mraise_from_not_ok_status\u001b[39m(e, name):\n\u001b[1;32m   6655\u001b[0m   e\u001b[38;5;241m.\u001b[39mmessage \u001b[38;5;241m+\u001b[39m\u001b[38;5;241m=\u001b[39m (\u001b[38;5;124m\"\u001b[39m\u001b[38;5;124m name: \u001b[39m\u001b[38;5;124m\"\u001b[39m \u001b[38;5;241m+\u001b[39m \u001b[38;5;28mstr\u001b[39m(name \u001b[38;5;28;01mif\u001b[39;00m name \u001b[38;5;129;01mis\u001b[39;00m \u001b[38;5;129;01mnot\u001b[39;00m \u001b[38;5;28;01mNone\u001b[39;00m \u001b[38;5;28;01melse\u001b[39;00m \u001b[38;5;124m\"\u001b[39m\u001b[38;5;124m\"\u001b[39m))\n\u001b[0;32m-> 6656\u001b[0m   \u001b[38;5;28;01mraise\u001b[39;00m core\u001b[38;5;241m.\u001b[39m_status_to_exception(e) \u001b[38;5;28;01mfrom\u001b[39;00m \u001b[38;5;28;01mNone\u001b[39;00m\n",
      "\u001b[0;31mInvalidArgumentError\u001b[0m: {{function_node __wrapped__IteratorGetNext_output_types_2_device_/job:localhost/replica:0/task:0/device:CPU:0}} Unknown image file format. One of JPEG, PNG, GIF, BMP required.\n\t [[{{node decode_image/DecodeImage}}]] [Op:IteratorGetNext] name: "
     ]
    }
   ],
   "source": [
    "for i, b in trainset.take(4):\n",
    "    print(i.shape)\n",
    "    print(b.shape)"
   ]
  },
  {
   "cell_type": "code",
   "execution_count": 7,
   "id": "6530bc62-1c4d-47d5-94e4-d077e15ca978",
   "metadata": {},
   "outputs": [
    {
     "name": "stdout",
     "output_type": "stream",
     "text": [
      "['airplane accident', 'bicycle accident', 'car accident', 'collapsed', 'earthquake', 'flooded', 'ice storm', 'nuclear explosion', 'oil spill', 'tornado', 'volcanic eruption', 'wildfire']\n"
     ]
    },
    {
     "ename": "InvalidArgumentError",
     "evalue": "{{function_node __wrapped__IteratorGetNext_output_types_2_device_/job:localhost/replica:0/task:0/device:CPU:0}} Unknown image file format. One of JPEG, PNG, GIF, BMP required.\n\t [[{{node decode_image/DecodeImage}}]] [Op:IteratorGetNext] name: ",
     "output_type": "error",
     "traceback": [
      "\u001b[0;31m---------------------------------------------------------------------------\u001b[0m",
      "\u001b[0;31mInvalidArgumentError\u001b[0m                      Traceback (most recent call last)",
      "Cell \u001b[0;32mIn[7], line 6\u001b[0m\n\u001b[1;32m      3\u001b[0m \u001b[38;5;28mprint\u001b[39m(class_names)\n\u001b[1;32m      5\u001b[0m plt\u001b[38;5;241m.\u001b[39mfigure(figsize\u001b[38;5;241m=\u001b[39m(\u001b[38;5;241m10\u001b[39m, \u001b[38;5;241m10\u001b[39m))\n\u001b[0;32m----> 6\u001b[0m \u001b[38;5;28;01mfor\u001b[39;00m images, labels \u001b[38;5;129;01min\u001b[39;00m trainset\u001b[38;5;241m.\u001b[39mtake(\u001b[38;5;241m1\u001b[39m):\n\u001b[1;32m      7\u001b[0m   \u001b[38;5;28;01mfor\u001b[39;00m i \u001b[38;5;129;01min\u001b[39;00m \u001b[38;5;28mrange\u001b[39m(\u001b[38;5;241m12\u001b[39m):\n\u001b[1;32m      8\u001b[0m     ax \u001b[38;5;241m=\u001b[39m plt\u001b[38;5;241m.\u001b[39msubplot(\u001b[38;5;241m4\u001b[39m, \u001b[38;5;241m3\u001b[39m, i \u001b[38;5;241m+\u001b[39m \u001b[38;5;241m1\u001b[39m)\n",
      "File \u001b[0;32m/media/abhishek/data/college/thesis/thesis_with_dr_duc/conda_envs/dlpruning_tf6.yml/lib/python3.11/site-packages/tensorflow/python/data/ops/iterator_ops.py:814\u001b[0m, in \u001b[0;36mOwnedIterator.__next__\u001b[0;34m(self)\u001b[0m\n\u001b[1;32m    812\u001b[0m \u001b[38;5;28;01mdef\u001b[39;00m \u001b[38;5;21m__next__\u001b[39m(\u001b[38;5;28mself\u001b[39m):\n\u001b[1;32m    813\u001b[0m   \u001b[38;5;28;01mtry\u001b[39;00m:\n\u001b[0;32m--> 814\u001b[0m     \u001b[38;5;28;01mreturn\u001b[39;00m \u001b[38;5;28;43mself\u001b[39;49m\u001b[38;5;241;43m.\u001b[39;49m\u001b[43m_next_internal\u001b[49m\u001b[43m(\u001b[49m\u001b[43m)\u001b[49m\n\u001b[1;32m    815\u001b[0m   \u001b[38;5;28;01mexcept\u001b[39;00m errors\u001b[38;5;241m.\u001b[39mOutOfRangeError:\n\u001b[1;32m    816\u001b[0m     \u001b[38;5;28;01mraise\u001b[39;00m \u001b[38;5;167;01mStopIteration\u001b[39;00m\n",
      "File \u001b[0;32m/media/abhishek/data/college/thesis/thesis_with_dr_duc/conda_envs/dlpruning_tf6.yml/lib/python3.11/site-packages/tensorflow/python/data/ops/iterator_ops.py:777\u001b[0m, in \u001b[0;36mOwnedIterator._next_internal\u001b[0;34m(self)\u001b[0m\n\u001b[1;32m    774\u001b[0m \u001b[38;5;66;03m# TODO(b/77291417): This runs in sync mode as iterators use an error status\u001b[39;00m\n\u001b[1;32m    775\u001b[0m \u001b[38;5;66;03m# to communicate that there is no more data to iterate over.\u001b[39;00m\n\u001b[1;32m    776\u001b[0m \u001b[38;5;28;01mwith\u001b[39;00m context\u001b[38;5;241m.\u001b[39mexecution_mode(context\u001b[38;5;241m.\u001b[39mSYNC):\n\u001b[0;32m--> 777\u001b[0m   ret \u001b[38;5;241m=\u001b[39m \u001b[43mgen_dataset_ops\u001b[49m\u001b[38;5;241;43m.\u001b[39;49m\u001b[43miterator_get_next\u001b[49m\u001b[43m(\u001b[49m\n\u001b[1;32m    778\u001b[0m \u001b[43m      \u001b[49m\u001b[38;5;28;43mself\u001b[39;49m\u001b[38;5;241;43m.\u001b[39;49m\u001b[43m_iterator_resource\u001b[49m\u001b[43m,\u001b[49m\n\u001b[1;32m    779\u001b[0m \u001b[43m      \u001b[49m\u001b[43moutput_types\u001b[49m\u001b[38;5;241;43m=\u001b[39;49m\u001b[38;5;28;43mself\u001b[39;49m\u001b[38;5;241;43m.\u001b[39;49m\u001b[43m_flat_output_types\u001b[49m\u001b[43m,\u001b[49m\n\u001b[1;32m    780\u001b[0m \u001b[43m      \u001b[49m\u001b[43moutput_shapes\u001b[49m\u001b[38;5;241;43m=\u001b[39;49m\u001b[38;5;28;43mself\u001b[39;49m\u001b[38;5;241;43m.\u001b[39;49m\u001b[43m_flat_output_shapes\u001b[49m\u001b[43m)\u001b[49m\n\u001b[1;32m    782\u001b[0m   \u001b[38;5;28;01mtry\u001b[39;00m:\n\u001b[1;32m    783\u001b[0m     \u001b[38;5;66;03m# Fast path for the case `self._structure` is not a nested structure.\u001b[39;00m\n\u001b[1;32m    784\u001b[0m     \u001b[38;5;28;01mreturn\u001b[39;00m \u001b[38;5;28mself\u001b[39m\u001b[38;5;241m.\u001b[39m_element_spec\u001b[38;5;241m.\u001b[39m_from_compatible_tensor_list(ret)  \u001b[38;5;66;03m# pylint: disable=protected-access\u001b[39;00m\n",
      "File \u001b[0;32m/media/abhishek/data/college/thesis/thesis_with_dr_duc/conda_envs/dlpruning_tf6.yml/lib/python3.11/site-packages/tensorflow/python/ops/gen_dataset_ops.py:3028\u001b[0m, in \u001b[0;36miterator_get_next\u001b[0;34m(iterator, output_types, output_shapes, name)\u001b[0m\n\u001b[1;32m   3026\u001b[0m   \u001b[38;5;28;01mreturn\u001b[39;00m _result\n\u001b[1;32m   3027\u001b[0m \u001b[38;5;28;01mexcept\u001b[39;00m _core\u001b[38;5;241m.\u001b[39m_NotOkStatusException \u001b[38;5;28;01mas\u001b[39;00m e:\n\u001b[0;32m-> 3028\u001b[0m   \u001b[43m_ops\u001b[49m\u001b[38;5;241;43m.\u001b[39;49m\u001b[43mraise_from_not_ok_status\u001b[49m\u001b[43m(\u001b[49m\u001b[43me\u001b[49m\u001b[43m,\u001b[49m\u001b[43m \u001b[49m\u001b[43mname\u001b[49m\u001b[43m)\u001b[49m\n\u001b[1;32m   3029\u001b[0m \u001b[38;5;28;01mexcept\u001b[39;00m _core\u001b[38;5;241m.\u001b[39m_FallbackException:\n\u001b[1;32m   3030\u001b[0m   \u001b[38;5;28;01mpass\u001b[39;00m\n",
      "File \u001b[0;32m/media/abhishek/data/college/thesis/thesis_with_dr_duc/conda_envs/dlpruning_tf6.yml/lib/python3.11/site-packages/tensorflow/python/framework/ops.py:6656\u001b[0m, in \u001b[0;36mraise_from_not_ok_status\u001b[0;34m(e, name)\u001b[0m\n\u001b[1;32m   6654\u001b[0m \u001b[38;5;28;01mdef\u001b[39;00m \u001b[38;5;21mraise_from_not_ok_status\u001b[39m(e, name):\n\u001b[1;32m   6655\u001b[0m   e\u001b[38;5;241m.\u001b[39mmessage \u001b[38;5;241m+\u001b[39m\u001b[38;5;241m=\u001b[39m (\u001b[38;5;124m\"\u001b[39m\u001b[38;5;124m name: \u001b[39m\u001b[38;5;124m\"\u001b[39m \u001b[38;5;241m+\u001b[39m \u001b[38;5;28mstr\u001b[39m(name \u001b[38;5;28;01mif\u001b[39;00m name \u001b[38;5;129;01mis\u001b[39;00m \u001b[38;5;129;01mnot\u001b[39;00m \u001b[38;5;28;01mNone\u001b[39;00m \u001b[38;5;28;01melse\u001b[39;00m \u001b[38;5;124m\"\u001b[39m\u001b[38;5;124m\"\u001b[39m))\n\u001b[0;32m-> 6656\u001b[0m   \u001b[38;5;28;01mraise\u001b[39;00m core\u001b[38;5;241m.\u001b[39m_status_to_exception(e) \u001b[38;5;28;01mfrom\u001b[39;00m \u001b[38;5;28;01mNone\u001b[39;00m\n",
      "\u001b[0;31mInvalidArgumentError\u001b[0m: {{function_node __wrapped__IteratorGetNext_output_types_2_device_/job:localhost/replica:0/task:0/device:CPU:0}} Unknown image file format. One of JPEG, PNG, GIF, BMP required.\n\t [[{{node decode_image/DecodeImage}}]] [Op:IteratorGetNext] name: "
     ]
    },
    {
     "data": {
      "text/plain": [
       "<Figure size 1000x1000 with 0 Axes>"
      ]
     },
     "metadata": {},
     "output_type": "display_data"
    }
   ],
   "source": [
    "class_names = trainset.class_names\n",
    "num_classes = len(class_names)\n",
    "print(class_names)\n",
    "\n",
    "plt.figure(figsize=(10, 10))\n",
    "for images, labels in trainset.take(1):\n",
    "  for i in range(12):\n",
    "    ax = plt.subplot(4, 3, i + 1)\n",
    "    plt.imshow(images[i].numpy().astype(\"uint8\"))\n",
    "    plt.title(class_names[labels[i]])\n",
    "    plt.axis(\"off\")"
   ]
  },
  {
   "cell_type": "code",
   "execution_count": null,
   "id": "3c71bd3a-7a38-40b3-a91d-5a470cb7bb65",
   "metadata": {},
   "outputs": [],
   "source": []
  },
  {
   "cell_type": "code",
   "execution_count": 8,
   "id": "137cb109-4739-4e6d-91c4-5830062634ba",
   "metadata": {},
   "outputs": [],
   "source": [
    "AUTOTUNE = tf.data.AUTOTUNE\n",
    "\n",
    "trainset = trainset.prefetch(buffer_size=AUTOTUNE)\n",
    "trainset = trainset.ignore_errors(log_warning=True)\n",
    "valset = valset.prefetch(buffer_size=AUTOTUNE)\n",
    "testset = testset.prefetch(buffer_size=AUTOTUNE)"
   ]
  },
  {
   "cell_type": "markdown",
   "id": "29e561b8-8456-4d0a-8afb-91fae9a79bae",
   "metadata": {},
   "source": [
    "#### 1.1 Scale Image size to be appropriate for the model"
   ]
  },
  {
   "cell_type": "markdown",
   "id": "e0ba73b1-b9b0-4ddd-8298-02abc27e7bea",
   "metadata": {},
   "source": [
    "### 2. Create base model from pretrained convnet"
   ]
  },
  {
   "cell_type": "code",
   "execution_count": null,
   "id": "7c23dffa-181e-4d13-abe7-34a3b0549eff",
   "metadata": {},
   "outputs": [],
   "source": []
  },
  {
   "cell_type": "code",
   "execution_count": 9,
   "id": "0f655897-3987-4880-8b60-c3228602bd0d",
   "metadata": {},
   "outputs": [],
   "source": [
    "# Create the base model from the pre-trained model MobileNet V2\n",
    "IMG_SHAPE = IMG_SIZE + (3,)\n",
    "base_model = tf.keras.applications.MobileNetV2(input_shape=IMG_SHAPE,\n",
    "                                               include_top=False,\n",
    "                                               weights='imagenet')"
   ]
  },
  {
   "cell_type": "code",
   "execution_count": 10,
   "id": "9b943cc8-93bb-4f19-9aa5-159774d7c4e7",
   "metadata": {},
   "outputs": [
    {
     "name": "stderr",
     "output_type": "stream",
     "text": [
      "2023-10-17 14:33:26.129972: W tensorflow/core/kernels/data/experimental/ignore_errors_dataset_op.cc:119] Error raised with error message Unknown image file format. One of JPEG, PNG, GIF, BMP required.\n",
      "\t [[{{node decode_image/DecodeImage}}]]\n",
      "2023-10-17 14:33:27.021664: I tensorflow/compiler/xla/stream_executor/cuda/cuda_dnn.cc:432] Loaded cuDNN version 8600\n"
     ]
    },
    {
     "name": "stdout",
     "output_type": "stream",
     "text": [
      "(32, 5, 5, 1280)\n"
     ]
    }
   ],
   "source": [
    "image_batch, label_batch = next(iter(trainset))\n",
    "feature_batch = base_model(image_batch)\n",
    "print(feature_batch.shape)"
   ]
  },
  {
   "cell_type": "code",
   "execution_count": 11,
   "id": "d4edd80b-e6d6-48ca-a193-9fddd41dc895",
   "metadata": {},
   "outputs": [],
   "source": [
    "preprocess_input = tf.keras.applications.mobilenet_v2.preprocess_input"
   ]
  },
  {
   "cell_type": "markdown",
   "id": "f0357d65-2654-4169-9bbb-e72b80809511",
   "metadata": {},
   "source": [
    "#### 2.1 Feature extraction\n",
    "Freeze the conv layers\n",
    "\n",
    "Add classification head\n"
   ]
  },
  {
   "cell_type": "code",
   "execution_count": 12,
   "id": "61fbb6e9-5596-4235-ae1f-7fbaac1a1d15",
   "metadata": {},
   "outputs": [],
   "source": [
    "base_model.trainable = False"
   ]
  },
  {
   "cell_type": "code",
   "execution_count": 13,
   "id": "449a7467-6c82-4d7d-9146-1c34aa2e241d",
   "metadata": {},
   "outputs": [
    {
     "name": "stdout",
     "output_type": "stream",
     "text": [
      "(32, 1280)\n"
     ]
    }
   ],
   "source": [
    "global_average_layer = tf.keras.layers.GlobalAveragePooling2D()\n",
    "feature_batch_average = global_average_layer(feature_batch)\n",
    "print(feature_batch_average.shape)"
   ]
  },
  {
   "cell_type": "code",
   "execution_count": 14,
   "id": "518f0b30-f9e1-4ea2-b513-c0d660a34188",
   "metadata": {},
   "outputs": [
    {
     "name": "stdout",
     "output_type": "stream",
     "text": [
      "(32, 12)\n"
     ]
    }
   ],
   "source": [
    "prediction_layer_1 = tf.keras.layers.Dense(128)\n",
    "prediction_layer_2 = tf.keras.layers.Dense(num_classes)\n",
    "prediction_batch = prediction_layer_2(prediction_layer_1(feature_batch_average))\n",
    "print(prediction_batch.shape)"
   ]
  },
  {
   "cell_type": "code",
   "execution_count": 15,
   "id": "ebae358c-3b30-4728-9413-e29290dbcad3",
   "metadata": {},
   "outputs": [],
   "source": [
    "inputs = tf.keras.Input(shape=(160, 160, 3))\n",
    "# x = data_augmentation(inputs)\n",
    "x = preprocess_input(inputs)\n",
    "x = base_model(x, training=False)\n",
    "x = global_average_layer(x)\n",
    "x = tf.keras.layers.Dropout(0.2)(x)\n",
    "outputs = prediction_layer_2(prediction_layer_1(x))\n",
    "model = tf.keras.Model(inputs, outputs)"
   ]
  },
  {
   "cell_type": "code",
   "execution_count": 16,
   "id": "8022245a-8311-458d-9c90-f492469d16f4",
   "metadata": {},
   "outputs": [
    {
     "name": "stdout",
     "output_type": "stream",
     "text": [
      "Model: \"model\"\n",
      "_________________________________________________________________\n",
      " Layer (type)                Output Shape              Param #   \n",
      "=================================================================\n",
      " input_2 (InputLayer)        [(None, 160, 160, 3)]     0         \n",
      "                                                                 \n",
      " tf.math.truediv (TFOpLambd  (None, 160, 160, 3)       0         \n",
      " a)                                                              \n",
      "                                                                 \n",
      " tf.math.subtract (TFOpLamb  (None, 160, 160, 3)       0         \n",
      " da)                                                             \n",
      "                                                                 \n",
      " mobilenetv2_1.00_160 (Func  (None, 5, 5, 1280)        2257984   \n",
      " tional)                                                         \n",
      "                                                                 \n",
      " global_average_pooling2d (  (None, 1280)              0         \n",
      " GlobalAveragePooling2D)                                         \n",
      "                                                                 \n",
      " dropout (Dropout)           (None, 1280)              0         \n",
      "                                                                 \n",
      " dense (Dense)               (None, 128)               163968    \n",
      "                                                                 \n",
      " dense_1 (Dense)             (None, 12)                1548      \n",
      "                                                                 \n",
      "=================================================================\n",
      "Total params: 2423500 (9.24 MB)\n",
      "Trainable params: 165516 (646.55 KB)\n",
      "Non-trainable params: 2257984 (8.61 MB)\n",
      "_________________________________________________________________\n"
     ]
    }
   ],
   "source": [
    "model.summary()"
   ]
  },
  {
   "cell_type": "code",
   "execution_count": 17,
   "id": "a4ea2ecc-e4e4-4ff4-bd71-ff26abd5defb",
   "metadata": {
    "scrolled": true
   },
   "outputs": [
    {
     "name": "stdout",
     "output_type": "stream",
     "text": [
      "Model: \"mobilenetv2_1.00_160\"\n",
      "__________________________________________________________________________________________________\n",
      " Layer (type)                Output Shape                 Param #   Connected to                  \n",
      "==================================================================================================\n",
      " input_1 (InputLayer)        [(None, 160, 160, 3)]        0         []                            \n",
      "                                                                                                  \n",
      " Conv1 (Conv2D)              (None, 80, 80, 32)           864       ['input_1[0][0]']             \n",
      "                                                                                                  \n",
      " bn_Conv1 (BatchNormalizati  (None, 80, 80, 32)           128       ['Conv1[0][0]']               \n",
      " on)                                                                                              \n",
      "                                                                                                  \n",
      " Conv1_relu (ReLU)           (None, 80, 80, 32)           0         ['bn_Conv1[0][0]']            \n",
      "                                                                                                  \n",
      " expanded_conv_depthwise (D  (None, 80, 80, 32)           288       ['Conv1_relu[0][0]']          \n",
      " epthwiseConv2D)                                                                                  \n",
      "                                                                                                  \n",
      " expanded_conv_depthwise_BN  (None, 80, 80, 32)           128       ['expanded_conv_depthwise[0][0\n",
      "  (BatchNormalization)                                              ]']                           \n",
      "                                                                                                  \n",
      " expanded_conv_depthwise_re  (None, 80, 80, 32)           0         ['expanded_conv_depthwise_BN[0\n",
      " lu (ReLU)                                                          ][0]']                        \n",
      "                                                                                                  \n",
      " expanded_conv_project (Con  (None, 80, 80, 16)           512       ['expanded_conv_depthwise_relu\n",
      " v2D)                                                               [0][0]']                      \n",
      "                                                                                                  \n",
      " expanded_conv_project_BN (  (None, 80, 80, 16)           64        ['expanded_conv_project[0][0]'\n",
      " BatchNormalization)                                                ]                             \n",
      "                                                                                                  \n",
      " block_1_expand (Conv2D)     (None, 80, 80, 96)           1536      ['expanded_conv_project_BN[0][\n",
      "                                                                    0]']                          \n",
      "                                                                                                  \n",
      " block_1_expand_BN (BatchNo  (None, 80, 80, 96)           384       ['block_1_expand[0][0]']      \n",
      " rmalization)                                                                                     \n",
      "                                                                                                  \n",
      " block_1_expand_relu (ReLU)  (None, 80, 80, 96)           0         ['block_1_expand_BN[0][0]']   \n",
      "                                                                                                  \n",
      " block_1_pad (ZeroPadding2D  (None, 81, 81, 96)           0         ['block_1_expand_relu[0][0]'] \n",
      " )                                                                                                \n",
      "                                                                                                  \n",
      " block_1_depthwise (Depthwi  (None, 40, 40, 96)           864       ['block_1_pad[0][0]']         \n",
      " seConv2D)                                                                                        \n",
      "                                                                                                  \n",
      " block_1_depthwise_BN (Batc  (None, 40, 40, 96)           384       ['block_1_depthwise[0][0]']   \n",
      " hNormalization)                                                                                  \n",
      "                                                                                                  \n",
      " block_1_depthwise_relu (Re  (None, 40, 40, 96)           0         ['block_1_depthwise_BN[0][0]']\n",
      " LU)                                                                                              \n",
      "                                                                                                  \n",
      " block_1_project (Conv2D)    (None, 40, 40, 24)           2304      ['block_1_depthwise_relu[0][0]\n",
      "                                                                    ']                            \n",
      "                                                                                                  \n",
      " block_1_project_BN (BatchN  (None, 40, 40, 24)           96        ['block_1_project[0][0]']     \n",
      " ormalization)                                                                                    \n",
      "                                                                                                  \n",
      " block_2_expand (Conv2D)     (None, 40, 40, 144)          3456      ['block_1_project_BN[0][0]']  \n",
      "                                                                                                  \n",
      " block_2_expand_BN (BatchNo  (None, 40, 40, 144)          576       ['block_2_expand[0][0]']      \n",
      " rmalization)                                                                                     \n",
      "                                                                                                  \n",
      " block_2_expand_relu (ReLU)  (None, 40, 40, 144)          0         ['block_2_expand_BN[0][0]']   \n",
      "                                                                                                  \n",
      " block_2_depthwise (Depthwi  (None, 40, 40, 144)          1296      ['block_2_expand_relu[0][0]'] \n",
      " seConv2D)                                                                                        \n",
      "                                                                                                  \n",
      " block_2_depthwise_BN (Batc  (None, 40, 40, 144)          576       ['block_2_depthwise[0][0]']   \n",
      " hNormalization)                                                                                  \n",
      "                                                                                                  \n",
      " block_2_depthwise_relu (Re  (None, 40, 40, 144)          0         ['block_2_depthwise_BN[0][0]']\n",
      " LU)                                                                                              \n",
      "                                                                                                  \n",
      " block_2_project (Conv2D)    (None, 40, 40, 24)           3456      ['block_2_depthwise_relu[0][0]\n",
      "                                                                    ']                            \n",
      "                                                                                                  \n",
      " block_2_project_BN (BatchN  (None, 40, 40, 24)           96        ['block_2_project[0][0]']     \n",
      " ormalization)                                                                                    \n",
      "                                                                                                  \n",
      " block_2_add (Add)           (None, 40, 40, 24)           0         ['block_1_project_BN[0][0]',  \n",
      "                                                                     'block_2_project_BN[0][0]']  \n",
      "                                                                                                  \n",
      " block_3_expand (Conv2D)     (None, 40, 40, 144)          3456      ['block_2_add[0][0]']         \n",
      "                                                                                                  \n",
      " block_3_expand_BN (BatchNo  (None, 40, 40, 144)          576       ['block_3_expand[0][0]']      \n",
      " rmalization)                                                                                     \n",
      "                                                                                                  \n",
      " block_3_expand_relu (ReLU)  (None, 40, 40, 144)          0         ['block_3_expand_BN[0][0]']   \n",
      "                                                                                                  \n",
      " block_3_pad (ZeroPadding2D  (None, 41, 41, 144)          0         ['block_3_expand_relu[0][0]'] \n",
      " )                                                                                                \n",
      "                                                                                                  \n",
      " block_3_depthwise (Depthwi  (None, 20, 20, 144)          1296      ['block_3_pad[0][0]']         \n",
      " seConv2D)                                                                                        \n",
      "                                                                                                  \n",
      " block_3_depthwise_BN (Batc  (None, 20, 20, 144)          576       ['block_3_depthwise[0][0]']   \n",
      " hNormalization)                                                                                  \n",
      "                                                                                                  \n",
      " block_3_depthwise_relu (Re  (None, 20, 20, 144)          0         ['block_3_depthwise_BN[0][0]']\n",
      " LU)                                                                                              \n",
      "                                                                                                  \n",
      " block_3_project (Conv2D)    (None, 20, 20, 32)           4608      ['block_3_depthwise_relu[0][0]\n",
      "                                                                    ']                            \n",
      "                                                                                                  \n",
      " block_3_project_BN (BatchN  (None, 20, 20, 32)           128       ['block_3_project[0][0]']     \n",
      " ormalization)                                                                                    \n",
      "                                                                                                  \n",
      " block_4_expand (Conv2D)     (None, 20, 20, 192)          6144      ['block_3_project_BN[0][0]']  \n",
      "                                                                                                  \n",
      " block_4_expand_BN (BatchNo  (None, 20, 20, 192)          768       ['block_4_expand[0][0]']      \n",
      " rmalization)                                                                                     \n",
      "                                                                                                  \n",
      " block_4_expand_relu (ReLU)  (None, 20, 20, 192)          0         ['block_4_expand_BN[0][0]']   \n",
      "                                                                                                  \n",
      " block_4_depthwise (Depthwi  (None, 20, 20, 192)          1728      ['block_4_expand_relu[0][0]'] \n",
      " seConv2D)                                                                                        \n",
      "                                                                                                  \n",
      " block_4_depthwise_BN (Batc  (None, 20, 20, 192)          768       ['block_4_depthwise[0][0]']   \n",
      " hNormalization)                                                                                  \n",
      "                                                                                                  \n",
      " block_4_depthwise_relu (Re  (None, 20, 20, 192)          0         ['block_4_depthwise_BN[0][0]']\n",
      " LU)                                                                                              \n",
      "                                                                                                  \n",
      " block_4_project (Conv2D)    (None, 20, 20, 32)           6144      ['block_4_depthwise_relu[0][0]\n",
      "                                                                    ']                            \n",
      "                                                                                                  \n",
      " block_4_project_BN (BatchN  (None, 20, 20, 32)           128       ['block_4_project[0][0]']     \n",
      " ormalization)                                                                                    \n",
      "                                                                                                  \n",
      " block_4_add (Add)           (None, 20, 20, 32)           0         ['block_3_project_BN[0][0]',  \n",
      "                                                                     'block_4_project_BN[0][0]']  \n",
      "                                                                                                  \n",
      " block_5_expand (Conv2D)     (None, 20, 20, 192)          6144      ['block_4_add[0][0]']         \n",
      "                                                                                                  \n",
      " block_5_expand_BN (BatchNo  (None, 20, 20, 192)          768       ['block_5_expand[0][0]']      \n",
      " rmalization)                                                                                     \n",
      "                                                                                                  \n",
      " block_5_expand_relu (ReLU)  (None, 20, 20, 192)          0         ['block_5_expand_BN[0][0]']   \n",
      "                                                                                                  \n",
      " block_5_depthwise (Depthwi  (None, 20, 20, 192)          1728      ['block_5_expand_relu[0][0]'] \n",
      " seConv2D)                                                                                        \n",
      "                                                                                                  \n",
      " block_5_depthwise_BN (Batc  (None, 20, 20, 192)          768       ['block_5_depthwise[0][0]']   \n",
      " hNormalization)                                                                                  \n",
      "                                                                                                  \n",
      " block_5_depthwise_relu (Re  (None, 20, 20, 192)          0         ['block_5_depthwise_BN[0][0]']\n",
      " LU)                                                                                              \n",
      "                                                                                                  \n",
      " block_5_project (Conv2D)    (None, 20, 20, 32)           6144      ['block_5_depthwise_relu[0][0]\n",
      "                                                                    ']                            \n",
      "                                                                                                  \n",
      " block_5_project_BN (BatchN  (None, 20, 20, 32)           128       ['block_5_project[0][0]']     \n",
      " ormalization)                                                                                    \n",
      "                                                                                                  \n",
      " block_5_add (Add)           (None, 20, 20, 32)           0         ['block_4_add[0][0]',         \n",
      "                                                                     'block_5_project_BN[0][0]']  \n",
      "                                                                                                  \n",
      " block_6_expand (Conv2D)     (None, 20, 20, 192)          6144      ['block_5_add[0][0]']         \n",
      "                                                                                                  \n",
      " block_6_expand_BN (BatchNo  (None, 20, 20, 192)          768       ['block_6_expand[0][0]']      \n",
      " rmalization)                                                                                     \n",
      "                                                                                                  \n",
      " block_6_expand_relu (ReLU)  (None, 20, 20, 192)          0         ['block_6_expand_BN[0][0]']   \n",
      "                                                                                                  \n",
      " block_6_pad (ZeroPadding2D  (None, 21, 21, 192)          0         ['block_6_expand_relu[0][0]'] \n",
      " )                                                                                                \n",
      "                                                                                                  \n",
      " block_6_depthwise (Depthwi  (None, 10, 10, 192)          1728      ['block_6_pad[0][0]']         \n",
      " seConv2D)                                                                                        \n",
      "                                                                                                  \n",
      " block_6_depthwise_BN (Batc  (None, 10, 10, 192)          768       ['block_6_depthwise[0][0]']   \n",
      " hNormalization)                                                                                  \n",
      "                                                                                                  \n",
      " block_6_depthwise_relu (Re  (None, 10, 10, 192)          0         ['block_6_depthwise_BN[0][0]']\n",
      " LU)                                                                                              \n",
      "                                                                                                  \n",
      " block_6_project (Conv2D)    (None, 10, 10, 64)           12288     ['block_6_depthwise_relu[0][0]\n",
      "                                                                    ']                            \n",
      "                                                                                                  \n",
      " block_6_project_BN (BatchN  (None, 10, 10, 64)           256       ['block_6_project[0][0]']     \n",
      " ormalization)                                                                                    \n",
      "                                                                                                  \n",
      " block_7_expand (Conv2D)     (None, 10, 10, 384)          24576     ['block_6_project_BN[0][0]']  \n",
      "                                                                                                  \n",
      " block_7_expand_BN (BatchNo  (None, 10, 10, 384)          1536      ['block_7_expand[0][0]']      \n",
      " rmalization)                                                                                     \n",
      "                                                                                                  \n",
      " block_7_expand_relu (ReLU)  (None, 10, 10, 384)          0         ['block_7_expand_BN[0][0]']   \n",
      "                                                                                                  \n",
      " block_7_depthwise (Depthwi  (None, 10, 10, 384)          3456      ['block_7_expand_relu[0][0]'] \n",
      " seConv2D)                                                                                        \n",
      "                                                                                                  \n",
      " block_7_depthwise_BN (Batc  (None, 10, 10, 384)          1536      ['block_7_depthwise[0][0]']   \n",
      " hNormalization)                                                                                  \n",
      "                                                                                                  \n",
      " block_7_depthwise_relu (Re  (None, 10, 10, 384)          0         ['block_7_depthwise_BN[0][0]']\n",
      " LU)                                                                                              \n",
      "                                                                                                  \n",
      " block_7_project (Conv2D)    (None, 10, 10, 64)           24576     ['block_7_depthwise_relu[0][0]\n",
      "                                                                    ']                            \n",
      "                                                                                                  \n",
      " block_7_project_BN (BatchN  (None, 10, 10, 64)           256       ['block_7_project[0][0]']     \n",
      " ormalization)                                                                                    \n",
      "                                                                                                  \n",
      " block_7_add (Add)           (None, 10, 10, 64)           0         ['block_6_project_BN[0][0]',  \n",
      "                                                                     'block_7_project_BN[0][0]']  \n",
      "                                                                                                  \n",
      " block_8_expand (Conv2D)     (None, 10, 10, 384)          24576     ['block_7_add[0][0]']         \n",
      "                                                                                                  \n",
      " block_8_expand_BN (BatchNo  (None, 10, 10, 384)          1536      ['block_8_expand[0][0]']      \n",
      " rmalization)                                                                                     \n",
      "                                                                                                  \n",
      " block_8_expand_relu (ReLU)  (None, 10, 10, 384)          0         ['block_8_expand_BN[0][0]']   \n",
      "                                                                                                  \n",
      " block_8_depthwise (Depthwi  (None, 10, 10, 384)          3456      ['block_8_expand_relu[0][0]'] \n",
      " seConv2D)                                                                                        \n",
      "                                                                                                  \n",
      " block_8_depthwise_BN (Batc  (None, 10, 10, 384)          1536      ['block_8_depthwise[0][0]']   \n",
      " hNormalization)                                                                                  \n",
      "                                                                                                  \n",
      " block_8_depthwise_relu (Re  (None, 10, 10, 384)          0         ['block_8_depthwise_BN[0][0]']\n",
      " LU)                                                                                              \n",
      "                                                                                                  \n",
      " block_8_project (Conv2D)    (None, 10, 10, 64)           24576     ['block_8_depthwise_relu[0][0]\n",
      "                                                                    ']                            \n",
      "                                                                                                  \n",
      " block_8_project_BN (BatchN  (None, 10, 10, 64)           256       ['block_8_project[0][0]']     \n",
      " ormalization)                                                                                    \n",
      "                                                                                                  \n",
      " block_8_add (Add)           (None, 10, 10, 64)           0         ['block_7_add[0][0]',         \n",
      "                                                                     'block_8_project_BN[0][0]']  \n",
      "                                                                                                  \n",
      " block_9_expand (Conv2D)     (None, 10, 10, 384)          24576     ['block_8_add[0][0]']         \n",
      "                                                                                                  \n",
      " block_9_expand_BN (BatchNo  (None, 10, 10, 384)          1536      ['block_9_expand[0][0]']      \n",
      " rmalization)                                                                                     \n",
      "                                                                                                  \n",
      " block_9_expand_relu (ReLU)  (None, 10, 10, 384)          0         ['block_9_expand_BN[0][0]']   \n",
      "                                                                                                  \n",
      " block_9_depthwise (Depthwi  (None, 10, 10, 384)          3456      ['block_9_expand_relu[0][0]'] \n",
      " seConv2D)                                                                                        \n",
      "                                                                                                  \n",
      " block_9_depthwise_BN (Batc  (None, 10, 10, 384)          1536      ['block_9_depthwise[0][0]']   \n",
      " hNormalization)                                                                                  \n",
      "                                                                                                  \n",
      " block_9_depthwise_relu (Re  (None, 10, 10, 384)          0         ['block_9_depthwise_BN[0][0]']\n",
      " LU)                                                                                              \n",
      "                                                                                                  \n",
      " block_9_project (Conv2D)    (None, 10, 10, 64)           24576     ['block_9_depthwise_relu[0][0]\n",
      "                                                                    ']                            \n",
      "                                                                                                  \n",
      " block_9_project_BN (BatchN  (None, 10, 10, 64)           256       ['block_9_project[0][0]']     \n",
      " ormalization)                                                                                    \n",
      "                                                                                                  \n",
      " block_9_add (Add)           (None, 10, 10, 64)           0         ['block_8_add[0][0]',         \n",
      "                                                                     'block_9_project_BN[0][0]']  \n",
      "                                                                                                  \n",
      " block_10_expand (Conv2D)    (None, 10, 10, 384)          24576     ['block_9_add[0][0]']         \n",
      "                                                                                                  \n",
      " block_10_expand_BN (BatchN  (None, 10, 10, 384)          1536      ['block_10_expand[0][0]']     \n",
      " ormalization)                                                                                    \n",
      "                                                                                                  \n",
      " block_10_expand_relu (ReLU  (None, 10, 10, 384)          0         ['block_10_expand_BN[0][0]']  \n",
      " )                                                                                                \n",
      "                                                                                                  \n",
      " block_10_depthwise (Depthw  (None, 10, 10, 384)          3456      ['block_10_expand_relu[0][0]']\n",
      " iseConv2D)                                                                                       \n",
      "                                                                                                  \n",
      " block_10_depthwise_BN (Bat  (None, 10, 10, 384)          1536      ['block_10_depthwise[0][0]']  \n",
      " chNormalization)                                                                                 \n",
      "                                                                                                  \n",
      " block_10_depthwise_relu (R  (None, 10, 10, 384)          0         ['block_10_depthwise_BN[0][0]'\n",
      " eLU)                                                               ]                             \n",
      "                                                                                                  \n",
      " block_10_project (Conv2D)   (None, 10, 10, 96)           36864     ['block_10_depthwise_relu[0][0\n",
      "                                                                    ]']                           \n",
      "                                                                                                  \n",
      " block_10_project_BN (Batch  (None, 10, 10, 96)           384       ['block_10_project[0][0]']    \n",
      " Normalization)                                                                                   \n",
      "                                                                                                  \n",
      " block_11_expand (Conv2D)    (None, 10, 10, 576)          55296     ['block_10_project_BN[0][0]'] \n",
      "                                                                                                  \n",
      " block_11_expand_BN (BatchN  (None, 10, 10, 576)          2304      ['block_11_expand[0][0]']     \n",
      " ormalization)                                                                                    \n",
      "                                                                                                  \n",
      " block_11_expand_relu (ReLU  (None, 10, 10, 576)          0         ['block_11_expand_BN[0][0]']  \n",
      " )                                                                                                \n",
      "                                                                                                  \n",
      " block_11_depthwise (Depthw  (None, 10, 10, 576)          5184      ['block_11_expand_relu[0][0]']\n",
      " iseConv2D)                                                                                       \n",
      "                                                                                                  \n",
      " block_11_depthwise_BN (Bat  (None, 10, 10, 576)          2304      ['block_11_depthwise[0][0]']  \n",
      " chNormalization)                                                                                 \n",
      "                                                                                                  \n",
      " block_11_depthwise_relu (R  (None, 10, 10, 576)          0         ['block_11_depthwise_BN[0][0]'\n",
      " eLU)                                                               ]                             \n",
      "                                                                                                  \n",
      " block_11_project (Conv2D)   (None, 10, 10, 96)           55296     ['block_11_depthwise_relu[0][0\n",
      "                                                                    ]']                           \n",
      "                                                                                                  \n",
      " block_11_project_BN (Batch  (None, 10, 10, 96)           384       ['block_11_project[0][0]']    \n",
      " Normalization)                                                                                   \n",
      "                                                                                                  \n",
      " block_11_add (Add)          (None, 10, 10, 96)           0         ['block_10_project_BN[0][0]', \n",
      "                                                                     'block_11_project_BN[0][0]'] \n",
      "                                                                                                  \n",
      " block_12_expand (Conv2D)    (None, 10, 10, 576)          55296     ['block_11_add[0][0]']        \n",
      "                                                                                                  \n",
      " block_12_expand_BN (BatchN  (None, 10, 10, 576)          2304      ['block_12_expand[0][0]']     \n",
      " ormalization)                                                                                    \n",
      "                                                                                                  \n",
      " block_12_expand_relu (ReLU  (None, 10, 10, 576)          0         ['block_12_expand_BN[0][0]']  \n",
      " )                                                                                                \n",
      "                                                                                                  \n",
      " block_12_depthwise (Depthw  (None, 10, 10, 576)          5184      ['block_12_expand_relu[0][0]']\n",
      " iseConv2D)                                                                                       \n",
      "                                                                                                  \n",
      " block_12_depthwise_BN (Bat  (None, 10, 10, 576)          2304      ['block_12_depthwise[0][0]']  \n",
      " chNormalization)                                                                                 \n",
      "                                                                                                  \n",
      " block_12_depthwise_relu (R  (None, 10, 10, 576)          0         ['block_12_depthwise_BN[0][0]'\n",
      " eLU)                                                               ]                             \n",
      "                                                                                                  \n",
      " block_12_project (Conv2D)   (None, 10, 10, 96)           55296     ['block_12_depthwise_relu[0][0\n",
      "                                                                    ]']                           \n",
      "                                                                                                  \n",
      " block_12_project_BN (Batch  (None, 10, 10, 96)           384       ['block_12_project[0][0]']    \n",
      " Normalization)                                                                                   \n",
      "                                                                                                  \n",
      " block_12_add (Add)          (None, 10, 10, 96)           0         ['block_11_add[0][0]',        \n",
      "                                                                     'block_12_project_BN[0][0]'] \n",
      "                                                                                                  \n",
      " block_13_expand (Conv2D)    (None, 10, 10, 576)          55296     ['block_12_add[0][0]']        \n",
      "                                                                                                  \n",
      " block_13_expand_BN (BatchN  (None, 10, 10, 576)          2304      ['block_13_expand[0][0]']     \n",
      " ormalization)                                                                                    \n",
      "                                                                                                  \n",
      " block_13_expand_relu (ReLU  (None, 10, 10, 576)          0         ['block_13_expand_BN[0][0]']  \n",
      " )                                                                                                \n",
      "                                                                                                  \n",
      " block_13_pad (ZeroPadding2  (None, 11, 11, 576)          0         ['block_13_expand_relu[0][0]']\n",
      " D)                                                                                               \n",
      "                                                                                                  \n",
      " block_13_depthwise (Depthw  (None, 5, 5, 576)            5184      ['block_13_pad[0][0]']        \n",
      " iseConv2D)                                                                                       \n",
      "                                                                                                  \n",
      " block_13_depthwise_BN (Bat  (None, 5, 5, 576)            2304      ['block_13_depthwise[0][0]']  \n",
      " chNormalization)                                                                                 \n",
      "                                                                                                  \n",
      " block_13_depthwise_relu (R  (None, 5, 5, 576)            0         ['block_13_depthwise_BN[0][0]'\n",
      " eLU)                                                               ]                             \n",
      "                                                                                                  \n",
      " block_13_project (Conv2D)   (None, 5, 5, 160)            92160     ['block_13_depthwise_relu[0][0\n",
      "                                                                    ]']                           \n",
      "                                                                                                  \n",
      " block_13_project_BN (Batch  (None, 5, 5, 160)            640       ['block_13_project[0][0]']    \n",
      " Normalization)                                                                                   \n",
      "                                                                                                  \n",
      " block_14_expand (Conv2D)    (None, 5, 5, 960)            153600    ['block_13_project_BN[0][0]'] \n",
      "                                                                                                  \n",
      " block_14_expand_BN (BatchN  (None, 5, 5, 960)            3840      ['block_14_expand[0][0]']     \n",
      " ormalization)                                                                                    \n",
      "                                                                                                  \n",
      " block_14_expand_relu (ReLU  (None, 5, 5, 960)            0         ['block_14_expand_BN[0][0]']  \n",
      " )                                                                                                \n",
      "                                                                                                  \n",
      " block_14_depthwise (Depthw  (None, 5, 5, 960)            8640      ['block_14_expand_relu[0][0]']\n",
      " iseConv2D)                                                                                       \n",
      "                                                                                                  \n",
      " block_14_depthwise_BN (Bat  (None, 5, 5, 960)            3840      ['block_14_depthwise[0][0]']  \n",
      " chNormalization)                                                                                 \n",
      "                                                                                                  \n",
      " block_14_depthwise_relu (R  (None, 5, 5, 960)            0         ['block_14_depthwise_BN[0][0]'\n",
      " eLU)                                                               ]                             \n",
      "                                                                                                  \n",
      " block_14_project (Conv2D)   (None, 5, 5, 160)            153600    ['block_14_depthwise_relu[0][0\n",
      "                                                                    ]']                           \n",
      "                                                                                                  \n",
      " block_14_project_BN (Batch  (None, 5, 5, 160)            640       ['block_14_project[0][0]']    \n",
      " Normalization)                                                                                   \n",
      "                                                                                                  \n",
      " block_14_add (Add)          (None, 5, 5, 160)            0         ['block_13_project_BN[0][0]', \n",
      "                                                                     'block_14_project_BN[0][0]'] \n",
      "                                                                                                  \n",
      " block_15_expand (Conv2D)    (None, 5, 5, 960)            153600    ['block_14_add[0][0]']        \n",
      "                                                                                                  \n",
      " block_15_expand_BN (BatchN  (None, 5, 5, 960)            3840      ['block_15_expand[0][0]']     \n",
      " ormalization)                                                                                    \n",
      "                                                                                                  \n",
      " block_15_expand_relu (ReLU  (None, 5, 5, 960)            0         ['block_15_expand_BN[0][0]']  \n",
      " )                                                                                                \n",
      "                                                                                                  \n",
      " block_15_depthwise (Depthw  (None, 5, 5, 960)            8640      ['block_15_expand_relu[0][0]']\n",
      " iseConv2D)                                                                                       \n",
      "                                                                                                  \n",
      " block_15_depthwise_BN (Bat  (None, 5, 5, 960)            3840      ['block_15_depthwise[0][0]']  \n",
      " chNormalization)                                                                                 \n",
      "                                                                                                  \n",
      " block_15_depthwise_relu (R  (None, 5, 5, 960)            0         ['block_15_depthwise_BN[0][0]'\n",
      " eLU)                                                               ]                             \n",
      "                                                                                                  \n",
      " block_15_project (Conv2D)   (None, 5, 5, 160)            153600    ['block_15_depthwise_relu[0][0\n",
      "                                                                    ]']                           \n",
      "                                                                                                  \n",
      " block_15_project_BN (Batch  (None, 5, 5, 160)            640       ['block_15_project[0][0]']    \n",
      " Normalization)                                                                                   \n",
      "                                                                                                  \n",
      " block_15_add (Add)          (None, 5, 5, 160)            0         ['block_14_add[0][0]',        \n",
      "                                                                     'block_15_project_BN[0][0]'] \n",
      "                                                                                                  \n",
      " block_16_expand (Conv2D)    (None, 5, 5, 960)            153600    ['block_15_add[0][0]']        \n",
      "                                                                                                  \n",
      " block_16_expand_BN (BatchN  (None, 5, 5, 960)            3840      ['block_16_expand[0][0]']     \n",
      " ormalization)                                                                                    \n",
      "                                                                                                  \n",
      " block_16_expand_relu (ReLU  (None, 5, 5, 960)            0         ['block_16_expand_BN[0][0]']  \n",
      " )                                                                                                \n",
      "                                                                                                  \n",
      " block_16_depthwise (Depthw  (None, 5, 5, 960)            8640      ['block_16_expand_relu[0][0]']\n",
      " iseConv2D)                                                                                       \n",
      "                                                                                                  \n",
      " block_16_depthwise_BN (Bat  (None, 5, 5, 960)            3840      ['block_16_depthwise[0][0]']  \n",
      " chNormalization)                                                                                 \n",
      "                                                                                                  \n",
      " block_16_depthwise_relu (R  (None, 5, 5, 960)            0         ['block_16_depthwise_BN[0][0]'\n",
      " eLU)                                                               ]                             \n",
      "                                                                                                  \n",
      " block_16_project (Conv2D)   (None, 5, 5, 320)            307200    ['block_16_depthwise_relu[0][0\n",
      "                                                                    ]']                           \n",
      "                                                                                                  \n",
      " block_16_project_BN (Batch  (None, 5, 5, 320)            1280      ['block_16_project[0][0]']    \n",
      " Normalization)                                                                                   \n",
      "                                                                                                  \n",
      " Conv_1 (Conv2D)             (None, 5, 5, 1280)           409600    ['block_16_project_BN[0][0]'] \n",
      "                                                                                                  \n",
      " Conv_1_bn (BatchNormalizat  (None, 5, 5, 1280)           5120      ['Conv_1[0][0]']              \n",
      " ion)                                                                                             \n",
      "                                                                                                  \n",
      " out_relu (ReLU)             (None, 5, 5, 1280)           0         ['Conv_1_bn[0][0]']           \n",
      "                                                                                                  \n",
      "==================================================================================================\n",
      "Total params: 2257984 (8.61 MB)\n",
      "Trainable params: 0 (0.00 Byte)\n",
      "Non-trainable params: 2257984 (8.61 MB)\n",
      "__________________________________________________________________________________________________\n"
     ]
    }
   ],
   "source": [
    "base_model.summary()"
   ]
  },
  {
   "cell_type": "code",
   "execution_count": 18,
   "id": "d6eaada9-b703-489c-a505-c9e10870cfa7",
   "metadata": {},
   "outputs": [],
   "source": [
    "# code from https://www.tensorflow.org/tutorials/images/classification\n",
    "\n",
    "base_learning_rate = 0.0001\n",
    "model.compile(optimizer=tf.keras.optimizers.Adam(learning_rate=base_learning_rate),\n",
    "              loss=tf.keras.losses.SparseCategoricalCrossentropy(from_logits=True),\n",
    "              metrics=['accuracy'])"
   ]
  },
  {
   "cell_type": "markdown",
   "id": "61985575-c556-4f23-b120-018af98d82a2",
   "metadata": {},
   "source": [
    "### 3. Train the model"
   ]
  },
  {
   "cell_type": "code",
   "execution_count": 19,
   "id": "8f82eda0-ee56-453a-9079-ab0b9cd02b94",
   "metadata": {},
   "outputs": [
    {
     "name": "stdout",
     "output_type": "stream",
     "text": [
      " 5/37 [===>..........................] - ETA: 1s - loss: 3.1586 - accuracy: 0.0812"
     ]
    },
    {
     "name": "stderr",
     "output_type": "stream",
     "text": [
      "2023-10-17 14:33:31.795564: W tensorflow/tsl/framework/cpu_allocator_impl.cc:83] Allocation of 100687872 exceeds 10% of free system memory.\n"
     ]
    },
    {
     "name": "stdout",
     "output_type": "stream",
     "text": [
      "37/37 [==============================] - 8s 126ms/step - loss: 3.4360 - accuracy: 0.0876\n"
     ]
    }
   ],
   "source": [
    "initial_epochs = 10\n",
    "\n",
    "loss0, accuracy0 = model.evaluate(valset)"
   ]
  },
  {
   "cell_type": "code",
   "execution_count": 20,
   "id": "4bb5ae47-2be8-46cf-b4ec-f4e229f623dc",
   "metadata": {},
   "outputs": [
    {
     "name": "stdout",
     "output_type": "stream",
     "text": [
      "initial loss: 3.44\n",
      "initial accuracy: 0.09\n"
     ]
    }
   ],
   "source": [
    "print(\"initial loss: {:.2f}\".format(loss0))\n",
    "print(\"initial accuracy: {:.2f}\".format(accuracy0))"
   ]
  },
  {
   "cell_type": "code",
   "execution_count": 21,
   "id": "77c59eba-2a52-4676-b2d1-dec75078d342",
   "metadata": {
    "scrolled": true
   },
   "outputs": [
    {
     "name": "stdout",
     "output_type": "stream",
     "text": [
      "Epoch 1/10\n"
     ]
    },
    {
     "name": "stderr",
     "output_type": "stream",
     "text": [
      "2023-10-17 14:33:38.346304: W tensorflow/core/kernels/data/experimental/ignore_errors_dataset_op.cc:119] Error raised with error message Unknown image file format. One of JPEG, PNG, GIF, BMP required.\n",
      "\t [[{{node decode_image/DecodeImage}}]]\n",
      "2023-10-17 14:33:39.125483: I tensorflow/compiler/xla/service/service.cc:168] XLA service 0x82a5c90 initialized for platform CUDA (this does not guarantee that XLA will be used). Devices:\n",
      "2023-10-17 14:33:39.125527: I tensorflow/compiler/xla/service/service.cc:176]   StreamExecutor device (0): Quadro T1000 with Max-Q Design, Compute Capability 7.5\n",
      "2023-10-17 14:33:39.187854: I tensorflow/compiler/mlir/tensorflow/utils/dump_mlir_util.cc:255] disabling MLIR crash reproducer, set env var `MLIR_CRASH_REPRODUCER_DIRECTORY` to enable.\n",
      "2023-10-17 14:33:39.438994: I ./tensorflow/compiler/jit/device_compiler.h:186] Compiled cluster using XLA!  This line is logged at most once for the lifetime of the process.\n"
     ]
    },
    {
     "name": "stdout",
     "output_type": "stream",
     "text": [
      "     20/Unknown - 5s 96ms/step - loss: 2.9145 - accuracy: 0.1766"
     ]
    },
    {
     "name": "stderr",
     "output_type": "stream",
     "text": [
      "2023-10-17 14:33:41.412241: W tensorflow/tsl/framework/cpu_allocator_impl.cc:83] Allocation of 87668625 exceeds 10% of free system memory.\n"
     ]
    },
    {
     "name": "stdout",
     "output_type": "stream",
     "text": [
      "     42/Unknown - 9s 126ms/step - loss: 2.5560 - accuracy: 0.2626"
     ]
    },
    {
     "name": "stderr",
     "output_type": "stream",
     "text": [
      "2023-10-17 14:33:44.841294: W tensorflow/core/kernels/data/experimental/ignore_errors_dataset_op.cc:119] Error raised with error message Unknown image file format. One of JPEG, PNG, GIF, BMP required.\n",
      "\t [[{{node decode_image/DecodeImage}}]]\n"
     ]
    },
    {
     "name": "stdout",
     "output_type": "stream",
     "text": [
      "     58/Unknown - 10s 120ms/step - loss: 2.4028 - accuracy: 0.2953"
     ]
    },
    {
     "name": "stderr",
     "output_type": "stream",
     "text": [
      "2023-10-17 14:33:46.462338: W tensorflow/core/kernels/data/experimental/ignore_errors_dataset_op.cc:119] Error raised with error message Unknown image file format. One of JPEG, PNG, GIF, BMP required.\n",
      "\t [[{{node decode_image/DecodeImage}}]]\n"
     ]
    },
    {
     "name": "stdout",
     "output_type": "stream",
     "text": [
      "     67/Unknown - 12s 130ms/step - loss: 2.3205 - accuracy: 0.3139"
     ]
    },
    {
     "name": "stderr",
     "output_type": "stream",
     "text": [
      "2023-10-17 14:33:48.240144: W tensorflow/core/kernels/data/experimental/ignore_errors_dataset_op.cc:119] Error raised with error message Unknown image file format. One of JPEG, PNG, GIF, BMP required.\n",
      "\t [[{{node decode_image/DecodeImage}}]]\n"
     ]
    },
    {
     "name": "stdout",
     "output_type": "stream",
     "text": [
      "    146/Unknown - 20s 116ms/step - loss: 1.8244 - accuracy: 0.4427"
     ]
    },
    {
     "name": "stderr",
     "output_type": "stream",
     "text": [
      "2023-10-17 14:33:56.535451: I tensorflow/core/framework/local_rendezvous.cc:405] Local rendezvous recv item cancelled. Key hash: 4047771796247001658\n",
      "2023-10-17 14:33:56.535497: I tensorflow/core/framework/local_rendezvous.cc:405] Local rendezvous recv item cancelled. Key hash: 2993210412694971074\n",
      "2023-10-17 14:33:58.092491: W tensorflow/tsl/framework/cpu_allocator_impl.cc:83] Allocation of 100687872 exceeds 10% of free system memory.\n"
     ]
    },
    {
     "name": "stdout",
     "output_type": "stream",
     "text": [
      "146/146 [==============================] - 25s 149ms/step - loss: 1.8244 - accuracy: 0.4427 - val_loss: 1.0438 - val_accuracy: 0.6582\n",
      "Epoch 2/10\n"
     ]
    },
    {
     "name": "stderr",
     "output_type": "stream",
     "text": [
      "2023-10-17 14:34:01.595288: W tensorflow/core/kernels/data/experimental/ignore_errors_dataset_op.cc:119] Error raised with error message Unknown image file format. One of JPEG, PNG, GIF, BMP required.\n",
      "\t [[{{node decode_image/DecodeImage}}]]\n"
     ]
    },
    {
     "name": "stdout",
     "output_type": "stream",
     "text": [
      " 20/146 [===>..........................] - ETA: 13s - loss: 1.0582 - accuracy: 0.6641"
     ]
    },
    {
     "name": "stderr",
     "output_type": "stream",
     "text": [
      "2023-10-17 14:34:04.246862: W tensorflow/tsl/framework/cpu_allocator_impl.cc:83] Allocation of 87668625 exceeds 10% of free system memory.\n"
     ]
    },
    {
     "name": "stdout",
     "output_type": "stream",
     "text": [
      " 42/146 [=======>......................] - ETA: 13s - loss: 1.0359 - accuracy: 0.6592"
     ]
    },
    {
     "name": "stderr",
     "output_type": "stream",
     "text": [
      "2023-10-17 14:34:07.758137: W tensorflow/core/kernels/data/experimental/ignore_errors_dataset_op.cc:119] Error raised with error message Unknown image file format. One of JPEG, PNG, GIF, BMP required.\n",
      "\t [[{{node decode_image/DecodeImage}}]]\n"
     ]
    },
    {
     "name": "stdout",
     "output_type": "stream",
     "text": [
      " 58/146 [==========>...................] - ETA: 11s - loss: 1.0484 - accuracy: 0.6552"
     ]
    },
    {
     "name": "stderr",
     "output_type": "stream",
     "text": [
      "2023-10-17 14:34:09.471792: W tensorflow/core/kernels/data/experimental/ignore_errors_dataset_op.cc:119] Error raised with error message Unknown image file format. One of JPEG, PNG, GIF, BMP required.\n",
      "\t [[{{node decode_image/DecodeImage}}]]\n"
     ]
    },
    {
     "name": "stdout",
     "output_type": "stream",
     "text": [
      " 67/146 [============>.................] - ETA: 10s - loss: 1.0430 - accuracy: 0.6567"
     ]
    },
    {
     "name": "stderr",
     "output_type": "stream",
     "text": [
      "2023-10-17 14:34:11.237344: W tensorflow/core/kernels/data/experimental/ignore_errors_dataset_op.cc:119] Error raised with error message Unknown image file format. One of JPEG, PNG, GIF, BMP required.\n",
      "\t [[{{node decode_image/DecodeImage}}]]\n"
     ]
    },
    {
     "name": "stdout",
     "output_type": "stream",
     "text": [
      "146/146 [==============================] - ETA: 0s - loss: 0.9804 - accuracy: 0.6779"
     ]
    },
    {
     "name": "stderr",
     "output_type": "stream",
     "text": [
      "2023-10-17 14:34:20.650996: W tensorflow/tsl/framework/cpu_allocator_impl.cc:83] Allocation of 100687872 exceeds 10% of free system memory.\n"
     ]
    },
    {
     "name": "stdout",
     "output_type": "stream",
     "text": [
      "146/146 [==============================] - 23s 150ms/step - loss: 0.9804 - accuracy: 0.6779 - val_loss: 0.8034 - val_accuracy: 0.7398\n",
      "Epoch 3/10\n"
     ]
    },
    {
     "name": "stderr",
     "output_type": "stream",
     "text": [
      "2023-10-17 14:34:24.391055: W tensorflow/core/kernels/data/experimental/ignore_errors_dataset_op.cc:119] Error raised with error message Unknown image file format. One of JPEG, PNG, GIF, BMP required.\n",
      "\t [[{{node decode_image/DecodeImage}}]]\n"
     ]
    },
    {
     "name": "stdout",
     "output_type": "stream",
     "text": [
      " 42/146 [=======>......................] - ETA: 13s - loss: 0.8226 - accuracy: 0.7344"
     ]
    },
    {
     "name": "stderr",
     "output_type": "stream",
     "text": [
      "2023-10-17 14:34:30.457956: W tensorflow/core/kernels/data/experimental/ignore_errors_dataset_op.cc:119] Error raised with error message Unknown image file format. One of JPEG, PNG, GIF, BMP required.\n",
      "\t [[{{node decode_image/DecodeImage}}]]\n"
     ]
    },
    {
     "name": "stdout",
     "output_type": "stream",
     "text": [
      " 58/146 [==========>...................] - ETA: 10s - loss: 0.8266 - accuracy: 0.7349"
     ]
    },
    {
     "name": "stderr",
     "output_type": "stream",
     "text": [
      "2023-10-17 14:34:32.154769: W tensorflow/core/kernels/data/experimental/ignore_errors_dataset_op.cc:119] Error raised with error message Unknown image file format. One of JPEG, PNG, GIF, BMP required.\n",
      "\t [[{{node decode_image/DecodeImage}}]]\n"
     ]
    },
    {
     "name": "stdout",
     "output_type": "stream",
     "text": [
      " 67/146 [============>.................] - ETA: 10s - loss: 0.8230 - accuracy: 0.7360"
     ]
    },
    {
     "name": "stderr",
     "output_type": "stream",
     "text": [
      "2023-10-17 14:34:33.904033: W tensorflow/core/kernels/data/experimental/ignore_errors_dataset_op.cc:119] Error raised with error message Unknown image file format. One of JPEG, PNG, GIF, BMP required.\n",
      "\t [[{{node decode_image/DecodeImage}}]]\n"
     ]
    },
    {
     "name": "stdout",
     "output_type": "stream",
     "text": [
      "146/146 [==============================] - 24s 155ms/step - loss: 0.7961 - accuracy: 0.7411 - val_loss: 0.7355 - val_accuracy: 0.7568\n",
      "Epoch 4/10\n"
     ]
    },
    {
     "name": "stderr",
     "output_type": "stream",
     "text": [
      "2023-10-17 14:34:47.968924: W tensorflow/core/kernels/data/experimental/ignore_errors_dataset_op.cc:119] Error raised with error message Unknown image file format. One of JPEG, PNG, GIF, BMP required.\n",
      "\t [[{{node decode_image/DecodeImage}}]]\n"
     ]
    },
    {
     "name": "stdout",
     "output_type": "stream",
     "text": [
      " 42/146 [=======>......................] - ETA: 13s - loss: 0.6843 - accuracy: 0.7708"
     ]
    },
    {
     "name": "stderr",
     "output_type": "stream",
     "text": [
      "2023-10-17 14:34:53.913696: W tensorflow/core/kernels/data/experimental/ignore_errors_dataset_op.cc:119] Error raised with error message Unknown image file format. One of JPEG, PNG, GIF, BMP required.\n",
      "\t [[{{node decode_image/DecodeImage}}]]\n"
     ]
    },
    {
     "name": "stdout",
     "output_type": "stream",
     "text": [
      " 58/146 [==========>...................] - ETA: 10s - loss: 0.6986 - accuracy: 0.7619"
     ]
    },
    {
     "name": "stderr",
     "output_type": "stream",
     "text": [
      "2023-10-17 14:34:55.511728: W tensorflow/core/kernels/data/experimental/ignore_errors_dataset_op.cc:119] Error raised with error message Unknown image file format. One of JPEG, PNG, GIF, BMP required.\n",
      "\t [[{{node decode_image/DecodeImage}}]]\n"
     ]
    },
    {
     "name": "stdout",
     "output_type": "stream",
     "text": [
      " 67/146 [============>.................] - ETA: 10s - loss: 0.6969 - accuracy: 0.7668"
     ]
    },
    {
     "name": "stderr",
     "output_type": "stream",
     "text": [
      "2023-10-17 14:34:57.132969: W tensorflow/core/kernels/data/experimental/ignore_errors_dataset_op.cc:119] Error raised with error message Unknown image file format. One of JPEG, PNG, GIF, BMP required.\n",
      "\t [[{{node decode_image/DecodeImage}}]]\n"
     ]
    },
    {
     "name": "stdout",
     "output_type": "stream",
     "text": [
      "146/146 [==============================] - 21s 141ms/step - loss: 0.6778 - accuracy: 0.7721 - val_loss: 0.6701 - val_accuracy: 0.7772\n",
      "Epoch 5/10\n"
     ]
    },
    {
     "name": "stderr",
     "output_type": "stream",
     "text": [
      "2023-10-17 14:35:09.376805: W tensorflow/core/kernels/data/experimental/ignore_errors_dataset_op.cc:119] Error raised with error message Unknown image file format. One of JPEG, PNG, GIF, BMP required.\n",
      "\t [[{{node decode_image/DecodeImage}}]]\n"
     ]
    },
    {
     "name": "stdout",
     "output_type": "stream",
     "text": [
      " 42/146 [=======>......................] - ETA: 12s - loss: 0.6479 - accuracy: 0.7894"
     ]
    },
    {
     "name": "stderr",
     "output_type": "stream",
     "text": [
      "2023-10-17 14:35:15.035602: W tensorflow/core/kernels/data/experimental/ignore_errors_dataset_op.cc:119] Error raised with error message Unknown image file format. One of JPEG, PNG, GIF, BMP required.\n",
      "\t [[{{node decode_image/DecodeImage}}]]\n"
     ]
    },
    {
     "name": "stdout",
     "output_type": "stream",
     "text": [
      " 58/146 [==========>...................] - ETA: 10s - loss: 0.6490 - accuracy: 0.7936"
     ]
    },
    {
     "name": "stderr",
     "output_type": "stream",
     "text": [
      "2023-10-17 14:35:16.692828: W tensorflow/core/kernels/data/experimental/ignore_errors_dataset_op.cc:119] Error raised with error message Unknown image file format. One of JPEG, PNG, GIF, BMP required.\n",
      "\t [[{{node decode_image/DecodeImage}}]]\n"
     ]
    },
    {
     "name": "stdout",
     "output_type": "stream",
     "text": [
      " 67/146 [============>.................] - ETA: 9s - loss: 0.6508 - accuracy: 0.7910 "
     ]
    },
    {
     "name": "stderr",
     "output_type": "stream",
     "text": [
      "2023-10-17 14:35:18.283112: W tensorflow/core/kernels/data/experimental/ignore_errors_dataset_op.cc:119] Error raised with error message Unknown image file format. One of JPEG, PNG, GIF, BMP required.\n",
      "\t [[{{node decode_image/DecodeImage}}]]\n"
     ]
    },
    {
     "name": "stdout",
     "output_type": "stream",
     "text": [
      "146/146 [==============================] - 22s 143ms/step - loss: 0.6196 - accuracy: 0.7980 - val_loss: 0.6601 - val_accuracy: 0.7772\n",
      "Epoch 6/10\n"
     ]
    },
    {
     "name": "stderr",
     "output_type": "stream",
     "text": [
      "2023-10-17 14:35:30.990120: W tensorflow/core/kernels/data/experimental/ignore_errors_dataset_op.cc:119] Error raised with error message Unknown image file format. One of JPEG, PNG, GIF, BMP required.\n",
      "\t [[{{node decode_image/DecodeImage}}]]\n"
     ]
    },
    {
     "name": "stdout",
     "output_type": "stream",
     "text": [
      " 42/146 [=======>......................] - ETA: 13s - loss: 0.5942 - accuracy: 0.8103"
     ]
    },
    {
     "name": "stderr",
     "output_type": "stream",
     "text": [
      "2023-10-17 14:35:37.168697: W tensorflow/core/kernels/data/experimental/ignore_errors_dataset_op.cc:119] Error raised with error message Unknown image file format. One of JPEG, PNG, GIF, BMP required.\n",
      "\t [[{{node decode_image/DecodeImage}}]]\n"
     ]
    },
    {
     "name": "stdout",
     "output_type": "stream",
     "text": [
      " 58/146 [==========>...................] - ETA: 10s - loss: 0.5880 - accuracy: 0.8071"
     ]
    },
    {
     "name": "stderr",
     "output_type": "stream",
     "text": [
      "2023-10-17 14:35:38.815155: W tensorflow/core/kernels/data/experimental/ignore_errors_dataset_op.cc:119] Error raised with error message Unknown image file format. One of JPEG, PNG, GIF, BMP required.\n",
      "\t [[{{node decode_image/DecodeImage}}]]\n"
     ]
    },
    {
     "name": "stdout",
     "output_type": "stream",
     "text": [
      " 67/146 [============>.................] - ETA: 10s - loss: 0.5823 - accuracy: 0.8069"
     ]
    },
    {
     "name": "stderr",
     "output_type": "stream",
     "text": [
      "2023-10-17 14:35:40.564413: W tensorflow/core/kernels/data/experimental/ignore_errors_dataset_op.cc:119] Error raised with error message Unknown image file format. One of JPEG, PNG, GIF, BMP required.\n",
      "\t [[{{node decode_image/DecodeImage}}]]\n"
     ]
    },
    {
     "name": "stdout",
     "output_type": "stream",
     "text": [
      "146/146 [==============================] - 22s 146ms/step - loss: 0.5695 - accuracy: 0.8143 - val_loss: 0.6295 - val_accuracy: 0.7917\n",
      "Epoch 7/10\n"
     ]
    },
    {
     "name": "stderr",
     "output_type": "stream",
     "text": [
      "2023-10-17 14:35:53.121805: W tensorflow/core/kernels/data/experimental/ignore_errors_dataset_op.cc:119] Error raised with error message Unknown image file format. One of JPEG, PNG, GIF, BMP required.\n",
      "\t [[{{node decode_image/DecodeImage}}]]\n"
     ]
    },
    {
     "name": "stdout",
     "output_type": "stream",
     "text": [
      " 42/146 [=======>......................] - ETA: 12s - loss: 0.5167 - accuracy: 0.8371"
     ]
    },
    {
     "name": "stderr",
     "output_type": "stream",
     "text": [
      "2023-10-17 14:35:58.871591: W tensorflow/core/kernels/data/experimental/ignore_errors_dataset_op.cc:119] Error raised with error message Unknown image file format. One of JPEG, PNG, GIF, BMP required.\n",
      "\t [[{{node decode_image/DecodeImage}}]]\n"
     ]
    },
    {
     "name": "stdout",
     "output_type": "stream",
     "text": [
      " 58/146 [==========>...................] - ETA: 10s - loss: 0.5323 - accuracy: 0.8319"
     ]
    },
    {
     "name": "stderr",
     "output_type": "stream",
     "text": [
      "2023-10-17 14:36:00.538671: W tensorflow/core/kernels/data/experimental/ignore_errors_dataset_op.cc:119] Error raised with error message Unknown image file format. One of JPEG, PNG, GIF, BMP required.\n",
      "\t [[{{node decode_image/DecodeImage}}]]\n"
     ]
    },
    {
     "name": "stdout",
     "output_type": "stream",
     "text": [
      " 67/146 [============>.................] - ETA: 10s - loss: 0.5235 - accuracy: 0.8321"
     ]
    },
    {
     "name": "stderr",
     "output_type": "stream",
     "text": [
      "2023-10-17 14:36:02.127297: W tensorflow/core/kernels/data/experimental/ignore_errors_dataset_op.cc:119] Error raised with error message Unknown image file format. One of JPEG, PNG, GIF, BMP required.\n",
      "\t [[{{node decode_image/DecodeImage}}]]\n"
     ]
    },
    {
     "name": "stdout",
     "output_type": "stream",
     "text": [
      "146/146 [==============================] - 21s 142ms/step - loss: 0.5234 - accuracy: 0.8295 - val_loss: 0.6201 - val_accuracy: 0.7891\n",
      "Epoch 8/10\n"
     ]
    },
    {
     "name": "stderr",
     "output_type": "stream",
     "text": [
      "2023-10-17 14:36:14.565741: W tensorflow/core/kernels/data/experimental/ignore_errors_dataset_op.cc:119] Error raised with error message Unknown image file format. One of JPEG, PNG, GIF, BMP required.\n",
      "\t [[{{node decode_image/DecodeImage}}]]\n"
     ]
    },
    {
     "name": "stdout",
     "output_type": "stream",
     "text": [
      " 42/146 [=======>......................] - ETA: 12s - loss: 0.4971 - accuracy: 0.8400"
     ]
    },
    {
     "name": "stderr",
     "output_type": "stream",
     "text": [
      "2023-10-17 14:36:20.292854: W tensorflow/core/kernels/data/experimental/ignore_errors_dataset_op.cc:119] Error raised with error message Unknown image file format. One of JPEG, PNG, GIF, BMP required.\n",
      "\t [[{{node decode_image/DecodeImage}}]]\n"
     ]
    },
    {
     "name": "stdout",
     "output_type": "stream",
     "text": [
      " 58/146 [==========>...................] - ETA: 10s - loss: 0.5226 - accuracy: 0.8303"
     ]
    },
    {
     "name": "stderr",
     "output_type": "stream",
     "text": [
      "2023-10-17 14:36:21.871824: W tensorflow/core/kernels/data/experimental/ignore_errors_dataset_op.cc:119] Error raised with error message Unknown image file format. One of JPEG, PNG, GIF, BMP required.\n",
      "\t [[{{node decode_image/DecodeImage}}]]\n"
     ]
    },
    {
     "name": "stdout",
     "output_type": "stream",
     "text": [
      " 67/146 [============>.................] - ETA: 9s - loss: 0.5129 - accuracy: 0.8330 "
     ]
    },
    {
     "name": "stderr",
     "output_type": "stream",
     "text": [
      "2023-10-17 14:36:23.457613: W tensorflow/core/kernels/data/experimental/ignore_errors_dataset_op.cc:119] Error raised with error message Unknown image file format. One of JPEG, PNG, GIF, BMP required.\n",
      "\t [[{{node decode_image/DecodeImage}}]]\n"
     ]
    },
    {
     "name": "stdout",
     "output_type": "stream",
     "text": [
      "146/146 [==============================] - 21s 138ms/step - loss: 0.4959 - accuracy: 0.8383 - val_loss: 0.6083 - val_accuracy: 0.8002\n",
      "Epoch 9/10\n"
     ]
    },
    {
     "name": "stderr",
     "output_type": "stream",
     "text": [
      "2023-10-17 14:36:35.419992: W tensorflow/core/kernels/data/experimental/ignore_errors_dataset_op.cc:119] Error raised with error message Unknown image file format. One of JPEG, PNG, GIF, BMP required.\n",
      "\t [[{{node decode_image/DecodeImage}}]]\n"
     ]
    },
    {
     "name": "stdout",
     "output_type": "stream",
     "text": [
      " 42/146 [=======>......................] - ETA: 12s - loss: 0.4587 - accuracy: 0.8482"
     ]
    },
    {
     "name": "stderr",
     "output_type": "stream",
     "text": [
      "2023-10-17 14:36:41.038686: W tensorflow/core/kernels/data/experimental/ignore_errors_dataset_op.cc:119] Error raised with error message Unknown image file format. One of JPEG, PNG, GIF, BMP required.\n",
      "\t [[{{node decode_image/DecodeImage}}]]\n"
     ]
    },
    {
     "name": "stdout",
     "output_type": "stream",
     "text": [
      " 58/146 [==========>...................] - ETA: 10s - loss: 0.4822 - accuracy: 0.8400"
     ]
    },
    {
     "name": "stderr",
     "output_type": "stream",
     "text": [
      "2023-10-17 14:36:42.606566: W tensorflow/core/kernels/data/experimental/ignore_errors_dataset_op.cc:119] Error raised with error message Unknown image file format. One of JPEG, PNG, GIF, BMP required.\n",
      "\t [[{{node decode_image/DecodeImage}}]]\n"
     ]
    },
    {
     "name": "stdout",
     "output_type": "stream",
     "text": [
      " 67/146 [============>.................] - ETA: 9s - loss: 0.4794 - accuracy: 0.8405"
     ]
    },
    {
     "name": "stderr",
     "output_type": "stream",
     "text": [
      "2023-10-17 14:36:44.210807: W tensorflow/core/kernels/data/experimental/ignore_errors_dataset_op.cc:119] Error raised with error message Unknown image file format. One of JPEG, PNG, GIF, BMP required.\n",
      "\t [[{{node decode_image/DecodeImage}}]]\n"
     ]
    },
    {
     "name": "stdout",
     "output_type": "stream",
     "text": [
      "146/146 [==============================] - 21s 139ms/step - loss: 0.4642 - accuracy: 0.8477 - val_loss: 0.6085 - val_accuracy: 0.7883\n",
      "Epoch 10/10\n"
     ]
    },
    {
     "name": "stderr",
     "output_type": "stream",
     "text": [
      "2023-10-17 14:36:56.400169: W tensorflow/core/kernels/data/experimental/ignore_errors_dataset_op.cc:119] Error raised with error message Unknown image file format. One of JPEG, PNG, GIF, BMP required.\n",
      "\t [[{{node decode_image/DecodeImage}}]]\n"
     ]
    },
    {
     "name": "stdout",
     "output_type": "stream",
     "text": [
      " 42/146 [=======>......................] - ETA: 12s - loss: 0.4508 - accuracy: 0.8601"
     ]
    },
    {
     "name": "stderr",
     "output_type": "stream",
     "text": [
      "2023-10-17 14:37:02.070812: W tensorflow/core/kernels/data/experimental/ignore_errors_dataset_op.cc:119] Error raised with error message Unknown image file format. One of JPEG, PNG, GIF, BMP required.\n",
      "\t [[{{node decode_image/DecodeImage}}]]\n"
     ]
    },
    {
     "name": "stdout",
     "output_type": "stream",
     "text": [
      " 58/146 [==========>...................] - ETA: 10s - loss: 0.4651 - accuracy: 0.8534"
     ]
    },
    {
     "name": "stderr",
     "output_type": "stream",
     "text": [
      "2023-10-17 14:37:03.625001: W tensorflow/core/kernels/data/experimental/ignore_errors_dataset_op.cc:119] Error raised with error message Unknown image file format. One of JPEG, PNG, GIF, BMP required.\n",
      "\t [[{{node decode_image/DecodeImage}}]]\n"
     ]
    },
    {
     "name": "stdout",
     "output_type": "stream",
     "text": [
      " 67/146 [============>.................] - ETA: 9s - loss: 0.4643 - accuracy: 0.8549"
     ]
    },
    {
     "name": "stderr",
     "output_type": "stream",
     "text": [
      "2023-10-17 14:37:05.123580: W tensorflow/core/kernels/data/experimental/ignore_errors_dataset_op.cc:119] Error raised with error message Unknown image file format. One of JPEG, PNG, GIF, BMP required.\n",
      "\t [[{{node decode_image/DecodeImage}}]]\n"
     ]
    },
    {
     "name": "stdout",
     "output_type": "stream",
     "text": [
      "146/146 [==============================] - 20s 133ms/step - loss: 0.4443 - accuracy: 0.8578 - val_loss: 0.6099 - val_accuracy: 0.7959\n"
     ]
    }
   ],
   "source": [
    "history = model.fit(trainset,\n",
    "                    epochs=initial_epochs,\n",
    "                    validation_data=valset)"
   ]
  },
  {
   "cell_type": "code",
   "execution_count": null,
   "id": "99eb90e7-c87d-42b6-8dd8-f82271713a22",
   "metadata": {},
   "outputs": [],
   "source": []
  },
  {
   "cell_type": "code",
   "execution_count": 24,
   "id": "e12c0bec-0f4c-45c2-8562-5ef81dea5879",
   "metadata": {},
   "outputs": [
    {
     "name": "stderr",
     "output_type": "stream",
     "text": [
      "2023-10-17 14:45:05.480194: W tensorflow/core/kernels/data/experimental/ignore_errors_dataset_op.cc:119] Error raised with error message Unknown image file format. One of JPEG, PNG, GIF, BMP required.\n",
      "\t [[{{node decode_image/DecodeImage}}]]\n"
     ]
    },
    {
     "data": {
      "text/plain": [
       "<tf.Tensor: shape=(32, 12), dtype=float32, numpy=\n",
       "array([[ 4.3583617e-01, -8.4134269e-01,  8.7881410e-01, -6.4252400e-01,\n",
       "         8.5320193e-01,  8.2356234e+00,  8.3387899e-01, -1.4143689e+00,\n",
       "         1.9371974e+00, -1.8734159e+00, -1.0492158e+00, -1.8471824e+00],\n",
       "       [ 1.9269419e-01, -3.3816972e+00, -4.7955256e+00,  3.2738611e-01,\n",
       "         2.3088143e+00, -2.8807130e+00, -4.1989565e+00,  4.2430830e+00,\n",
       "        -2.8952491e+00,  1.4984794e-01,  1.7521982e+00,  7.8672714e+00],\n",
       "       [ 2.0045826e+00, -3.2207816e+00,  5.9856290e-01,  8.8352299e+00,\n",
       "         1.3631429e+01,  3.1955369e+00, -5.6733942e-01, -3.8134482e+00,\n",
       "         1.3701799e+00, -1.1493840e+00, -5.3148198e+00, -2.6675111e-01],\n",
       "       [ 8.4498243e+00,  1.7391202e+00,  2.5058105e+00,  5.5172119e+00,\n",
       "         5.4050307e+00,  9.9836469e-01, -2.9379117e+00, -2.3327997e+00,\n",
       "        -2.1826291e+00, -1.5415128e+00, -5.7889919e+00, -8.2623631e-01],\n",
       "       [ 2.2704071e-01, -3.5546494e+00,  5.1446819e-01,  1.6695848e+00,\n",
       "         7.8247552e+00,  4.3521881e-01,  8.3907950e-01, -5.6061459e-01,\n",
       "        -2.1050637e+00, -1.4528289e+00, -3.6887017e-01, -3.5179612e-01],\n",
       "       [ 3.2360001e+00,  2.4754655e+00,  9.7450695e+00,  2.8100107e+00,\n",
       "         1.5492922e+00, -1.8361664e-01, -4.1544237e+00, -2.1184840e+00,\n",
       "        -1.5872693e+00, -3.5622241e+00, -7.6878691e-01,  2.3517699e+00],\n",
       "       [ 1.7497472e+00, -3.8479607e+00,  1.9162579e-01,  5.6599197e+00,\n",
       "         2.1586051e+00,  1.6563740e-02,  1.3977652e+00, -1.1125803e+00,\n",
       "        -3.2954550e-01,  1.3516886e+00, -4.1163652e-04,  5.8594280e-01],\n",
       "       [ 2.6158366e+00, -5.4683822e-01,  6.1637764e+00,  3.7228838e-01,\n",
       "         2.4552436e+00,  3.3257480e+00, -3.0096114e+00, -7.6611197e-01,\n",
       "        -3.3468122e+00,  4.0956494e-01, -2.0638413e+00,  1.8129965e+00],\n",
       "       [ 4.7519536e+00, -1.5084440e+00,  2.3621359e+00, -7.8187086e-02,\n",
       "        -8.5495120e-01,  1.3901254e+00, -2.6267443e+00, -3.5119851e+00,\n",
       "        -1.4133198e+00,  1.1211187e+00, -3.0594995e+00,  2.6579279e-01],\n",
       "       [ 2.0432754e+00, -1.7378541e+00,  2.9314947e+00,  8.1077375e+00,\n",
       "         6.8769507e+00,  3.5652943e+00, -8.8872015e-01, -2.6167612e+00,\n",
       "        -3.9886789e+00, -6.0587484e-01, -2.9179707e+00,  7.1813804e-01],\n",
       "       [ 8.6301975e+00,  7.8835922e-01,  1.8962715e+00,  6.0060769e-01,\n",
       "         2.0098507e+00,  6.2223816e+00,  1.1246476e+00, -3.4880986e+00,\n",
       "        -2.2553642e+00, -2.4838166e+00, -5.1762977e+00, -2.8053617e+00],\n",
       "       [ 8.0891085e+00, -2.4921868e+00,  2.6074946e+00,  1.7100902e+00,\n",
       "         3.8960929e+00,  2.8308771e+00,  1.1122900e+00, -3.5031562e+00,\n",
       "         5.9130067e-01, -1.5325183e+00, -3.9825494e+00,  3.1151408e-01],\n",
       "       [ 1.3718728e+00, -4.2417002e+00, -1.6669838e+00, -1.4975700e+00,\n",
       "        -1.4969565e+00,  3.8651371e+00,  9.9480219e+00, -1.6314449e+00,\n",
       "         1.4271125e+00,  9.6589702e-01, -3.1016810e+00,  1.1519908e+00],\n",
       "       [ 2.3519084e+00, -3.2980230e+00,  7.2575882e-02,  2.2243705e+00,\n",
       "         2.7268744e+00,  1.9308913e+00,  3.1459234e+00, -1.4116741e+00,\n",
       "        -1.3725185e+00, -3.2385692e-01, -8.8164277e-02,  3.3887210e+00],\n",
       "       [-1.0409893e+00, -4.7484193e+00, -3.1798804e+00, -1.2302091e+00,\n",
       "        -2.5848196e+00, -2.3309946e-01, -2.0215142e-01,  8.2118139e+00,\n",
       "         1.9357409e-01, -7.9686737e-01,  2.3318160e-01, -2.4748485e+00],\n",
       "       [ 6.5368757e+00,  3.7238294e-01,  1.0784425e+00,  8.9876145e-01,\n",
       "         5.7721467e+00,  1.9217976e+00,  1.1601559e-01,  1.5046265e+00,\n",
       "         1.7516598e+00, -2.9775312e+00, -8.7594640e-01, -2.1658187e+00],\n",
       "       [-1.8889064e-02, -7.4784312e+00, -7.0233431e+00, -4.5597701e+00,\n",
       "        -3.6597795e+00, -3.3887848e-01,  1.7146966e-01, -1.1208369e+00,\n",
       "        -2.8661551e+00,  9.2929983e+00, -3.1084856e-01,  5.6896009e+00],\n",
       "       [ 1.0369948e+01, -1.3752743e+00,  4.3663793e+00,  5.3527582e-01,\n",
       "         2.0257363e+00,  1.1334321e+00,  4.2343333e-01, -2.8097353e+00,\n",
       "        -1.7172234e+00,  7.4426097e-01, -2.7914326e+00, -1.0153962e+00],\n",
       "       [ 2.7140098e+00,  2.8740711e+00,  7.6982627e+00,  9.3115020e-01,\n",
       "         6.9413147e+00,  4.3271375e+00,  8.2209361e-01, -2.0581727e+00,\n",
       "         1.8044063e+00, -2.2665174e+00, -3.2907584e+00, -1.6117467e+00],\n",
       "       [-1.7485118e-01, -5.2380629e+00, -4.3319020e+00,  1.5082512e+00,\n",
       "         1.2744731e+00,  5.9625921e+00,  1.2669018e+01, -7.9811633e-01,\n",
       "         5.8025354e-01, -2.7097218e+00, -2.8348050e+00, -3.2542521e-01],\n",
       "       [ 7.1580499e-01,  1.4442269e+00, -1.4527116e+00, -3.6153724e+00,\n",
       "        -1.4559491e+00,  5.3621950e+00, -1.6656654e+00,  9.7140290e-02,\n",
       "        -1.5945567e-01, -1.0310837e+00, -1.4960533e+00,  1.3980651e-01],\n",
       "       [-2.7123291e+00, -2.1152725e+00,  4.5320898e-01,  2.4366298e-01,\n",
       "        -1.9491150e+00, -2.6390383e+00, -2.3769579e+00, -5.6194447e-02,\n",
       "        -2.5388570e+00,  6.1028564e-01,  1.8891573e+00,  6.7870426e+00],\n",
       "       [-1.5531181e+00, -3.5801535e+00, -2.6995623e-01, -8.3297557e-01,\n",
       "         1.6687461e+00,  5.7695785e+00, -1.6648048e+00, -4.4295530e+00,\n",
       "         2.5701275e+00, -1.3463210e-01, -1.4736056e-01,  4.4851634e-01],\n",
       "       [ 2.1991785e+00, -3.1851304e+00,  1.5638451e-01,  5.5952108e-01,\n",
       "         2.3238697e+00,  4.4811964e+00,  2.0309107e+00, -1.5702435e+00,\n",
       "        -2.9088807e-01, -1.4496402e-01, -1.9730501e+00,  7.7682287e-01],\n",
       "       [-1.5132017e+00, -3.6555319e+00, -1.5377272e+00,  1.5693805e-01,\n",
       "        -1.8315891e+00, -9.9454242e-01, -2.2569856e-01, -3.3172749e-02,\n",
       "        -2.0712216e+00,  1.4268119e-02,  4.0171647e+00,  5.8868260e+00],\n",
       "       [-2.5155385e+00, -3.0610023e+00, -3.0150049e+00,  7.2279209e-01,\n",
       "        -2.5965478e+00, -5.0491924e+00,  1.0918053e+00, -1.1562023e+00,\n",
       "         5.1018338e+00, -3.9662037e+00,  1.1615680e+01,  3.7689373e+00],\n",
       "       [-6.2534964e-01, -3.6624405e+00, -2.8743162e+00, -3.5675049e+00,\n",
       "         1.8122856e-01,  1.1532741e+01,  4.1278586e-01, -1.9785304e+00,\n",
       "         3.0035532e+00, -2.9277561e+00, -3.7813473e+00, -1.3419458e+00],\n",
       "       [ 1.8035618e+00, -2.5328250e+00,  3.8308973e+00,  2.0848935e+00,\n",
       "         1.6304885e+00,  8.8373899e+00,  2.8643398e+00, -4.3684812e+00,\n",
       "         1.4332157e+00, -1.4400941e+00, -1.6764014e+00, -2.6005073e+00],\n",
       "       [-5.9002489e-01,  1.0374358e+01, -5.8767247e-01, -1.6362250e+00,\n",
       "         2.4189875e+00, -3.7146306e-01, -4.1821618e+00, -2.6035256e+00,\n",
       "         5.2190118e+00, -4.0081949e+00, -3.6840099e-01, -2.0110753e+00],\n",
       "       [-3.6315751e-01, -2.4873226e+00, -3.7606223e+00, -2.4288070e+00,\n",
       "        -1.7511309e+00,  1.3790740e+00,  5.4853207e-01,  2.2788558e+00,\n",
       "        -2.4381216e-01,  4.3759427e+00,  5.4023141e-01,  1.3960423e+00],\n",
       "       [ 2.0211785e+00, -1.5372552e+00,  6.5865488e+00,  4.2485595e-01,\n",
       "         1.8954564e+00,  3.4066260e+00, -1.1186187e+00, -4.3712177e+00,\n",
       "        -1.2605603e+00, -2.1991746e+00, -2.7820532e+00, -4.2006800e-01],\n",
       "       [ 4.1363502e+00, -1.2646182e+00, -1.8443599e+00, -1.5250075e+00,\n",
       "        -1.3935837e+00,  3.6539111e+00,  8.4974569e-01, -1.7226365e+00,\n",
       "         2.3646107e+00, -1.8368337e+00, -2.7346628e+00, -2.4619207e+00]],\n",
       "      dtype=float32)>"
      ]
     },
     "execution_count": 24,
     "metadata": {},
     "output_type": "execute_result"
    }
   ],
   "source": [
    "model(trainset.take(1).get_single_element(0)[0])"
   ]
  },
  {
   "cell_type": "code",
   "execution_count": 26,
   "id": "ccc2f0be-686f-4c67-b35c-54c22d2a1184",
   "metadata": {},
   "outputs": [
    {
     "name": "stderr",
     "output_type": "stream",
     "text": [
      "2023-10-17 14:45:32.075107: W tensorflow/core/kernels/data/experimental/ignore_errors_dataset_op.cc:119] Error raised with error message Unknown image file format. One of JPEG, PNG, GIF, BMP required.\n",
      "\t [[{{node decode_image/DecodeImage}}]]\n"
     ]
    },
    {
     "data": {
      "text/plain": [
       "<tf.Tensor: shape=(32,), dtype=int32, numpy=\n",
       "array([ 5,  2,  2,  2,  2,  5,  2,  7,  5,  2, 11, 10,  2,  3,  0,  4,  5,\n",
       "        6,  5,  3,  2,  8,  5, 11,  2, 10,  5, 10,  4,  0,  5,  2],\n",
       "      dtype=int32)>"
      ]
     },
     "execution_count": 26,
     "metadata": {},
     "output_type": "execute_result"
    }
   ],
   "source": [
    "trainset.take(1).get_single_element(0)[1]"
   ]
  },
  {
   "cell_type": "code",
   "execution_count": null,
   "id": "4edabfad-a3f2-40e4-baef-efe2f89c5cff",
   "metadata": {},
   "outputs": [],
   "source": []
  },
  {
   "cell_type": "code",
   "execution_count": 22,
   "id": "d93077f9-53c3-4235-b259-88a204cbe8d5",
   "metadata": {},
   "outputs": [
    {
     "data": {
      "image/png": "[encoded data removed]",
      "text/plain": [
       "<Figure size 800x800 with 2 Axes>"
      ]
     },
     "metadata": {},
     "output_type": "display_data"
    }
   ],
   "source": [
    "acc = history.history['accuracy']\n",
    "val_acc = history.history['val_accuracy']\n",
    "\n",
    "loss = history.history['loss']\n",
    "val_loss = history.history['val_loss']\n",
    "\n",
    "plt.figure(figsize=(8, 8))\n",
    "plt.subplot(2, 1, 1)\n",
    "plt.plot(acc, label='Training Accuracy')\n",
    "plt.plot(val_acc, label='Validation Accuracy')\n",
    "plt.legend(loc='lower right')\n",
    "plt.ylabel('Accuracy')\n",
    "plt.ylim([min(plt.ylim()),1])\n",
    "plt.title('Training and Validation Accuracy')\n",
    "\n",
    "plt.subplot(2, 1, 2)\n",
    "plt.plot(loss, label='Training Loss')\n",
    "plt.plot(val_loss, label='Validation Loss')\n",
    "plt.legend(loc='upper right')\n",
    "plt.ylabel('Cross Entropy')\n",
    "plt.ylim([0,1.0])\n",
    "plt.title('Training and Validation Loss')\n",
    "plt.xlabel('epoch')\n",
    "plt.show()"
   ]
  },
  {
   "cell_type": "code",
   "execution_count": 22,
   "id": "09425eef-ce1f-4b72-8fea-f906e4e833b4",
   "metadata": {},
   "outputs": [],
   "source": [
    "\n",
    "model.save_weights(\"mobile_net_trained_incidents_1.h5\", overwrite=True)"
   ]
  },
  {
   "cell_type": "code",
   "execution_count": 33,
   "id": "5a3a43c0-be9a-4ab3-b81b-b42d494d4fdd",
   "metadata": {},
   "outputs": [],
   "source": [
    "base_model_trained = model.layers[3]\n",
    "base_model_trained = sparsity.prune_low_magnitude(base_model_trained)\n",
    "base_model_trained.save_weights(\"mobile_net_trained_incidents_1.h5\", overwrite=True)"
   ]
  },
  {
   "cell_type": "code",
   "execution_count": null,
   "id": "621a1a16-a133-40cd-b031-1d86a52567c9",
   "metadata": {},
   "outputs": [],
   "source": [
    "base_model_trained.summary()"
   ]
  },
  {
   "cell_type": "code",
   "execution_count": null,
   "id": "fef86b89-b503-40a6-8fde-bea7ce9a45bb",
   "metadata": {},
   "outputs": [],
   "source": []
  },
  {
   "cell_type": "code",
   "execution_count": 23,
   "id": "ad2f5a1f-f0b3-4306-98a9-52acd49c365d",
   "metadata": {},
   "outputs": [
    {
     "name": "stdout",
     "output_type": "stream",
     "text": [
      "\n",
      "{'Conv1': 864, 'expanded_conv_project': 512, 'block_1_expand': 1536, 'block_1_project': 2304, 'block_2_expand': 3456, 'block_2_project': 3456, 'block_3_expand': 3456, 'block_3_project': 4608, 'block_4_expand': 6144, 'block_4_project': 6144, 'block_5_expand': 6144, 'block_5_project': 6144, 'block_6_expand': 6144, 'block_6_project': 12288, 'block_7_expand': 24576, 'block_7_project': 24576, 'block_8_expand': 24576, 'block_8_project': 24576, 'block_9_expand': 24576, 'block_9_project': 24576, 'block_10_expand': 24576, 'block_10_project': 36864, 'block_11_expand': 55296, 'block_11_project': 55296, 'block_12_expand': 55296, 'block_12_project': 55296, 'block_13_expand': 55296, 'block_13_project': 92160, 'block_14_expand': 153600, 'block_14_project': 153600, 'block_15_expand': 153600, 'block_15_project': 153600, 'block_16_expand': 153600, 'block_16_project': 307200, 'Conv_1': 409600}\n",
      "2125536\n"
     ]
    }
   ],
   "source": [
    "#Understanding base model\n",
    "\n",
    "conv_layers_full_size = {}\n",
    "\n",
    "for layer in base_model.layers:\n",
    "    \n",
    "    if isinstance(layer, tf.keras.layers.Conv2D):\n",
    "        # print(layer.name, end=\"\\t\")\n",
    "        # print(layer.count_params())\n",
    "        conv_layers_full_size[layer.name] = layer.count_params()\n",
    "        # print(tf.math.count_nonzero(layer.trainable_weights, axis=None))\n",
    "\n",
    "print()\n",
    "print(conv_layers_full_size)\n",
    "print(sum(conv_layers_full_size.values()))"
   ]
  },
  {
   "cell_type": "code",
   "execution_count": 24,
   "id": "aa9ac09c-b1ec-4a2e-9e36-c7a8db513362",
   "metadata": {},
   "outputs": [],
   "source": [
    "pruning_params_unpruned = {\n",
    "    'pruning_schedule': sparsity.ConstantSparsity(\n",
    "        target_sparsity=0.0, begin_step=0,\n",
    "         frequency=100\n",
    "    )\n",
    "}\n",
    "\n",
    "pruning_params_t2 = {\n",
    "    'pruning_schedule': sparsity.ConstantSparsity(\n",
    "        target_sparsity=0.81, begin_step=0,\n",
    "         frequency=100\n",
    "    )\n",
    "}"
   ]
  },
  {
   "cell_type": "code",
   "execution_count": 32,
   "id": "ecca0026-28e3-4683-b23d-1bb82ca8361d",
   "metadata": {},
   "outputs": [
    {
     "name": "stdout",
     "output_type": "stream",
     "text": [
      "Conv1 \t prune_low_magnitude_Conv1\n",
      "expanded_conv_project \t prune_low_magnitude_expanded_conv_project\n",
      "block_1_expand \t prune_low_magnitude_block_1_expand\n",
      "block_1_project \t prune_low_magnitude_block_1_project\n",
      "block_2_expand \t prune_low_magnitude_block_2_expand\n",
      "block_2_project \t prune_low_magnitude_block_2_project\n",
      "block_3_expand \t prune_low_magnitude_block_3_expand\n",
      "block_3_project \t prune_low_magnitude_block_3_project\n",
      "block_4_expand \t prune_low_magnitude_block_4_expand\n",
      "block_4_project \t prune_low_magnitude_block_4_project\n",
      "block_5_expand \t prune_low_magnitude_block_5_expand\n",
      "block_5_project \t prune_low_magnitude_block_5_project\n",
      "block_6_expand \t prune_low_magnitude_block_6_expand\n",
      "block_6_project \t prune_low_magnitude_block_6_project\n",
      "block_7_expand \t prune_low_magnitude_block_7_expand\n",
      "block_7_project \t prune_low_magnitude_block_7_project\n",
      "block_8_expand \t prune_low_magnitude_block_8_expand\n",
      "block_8_project \t prune_low_magnitude_block_8_project\n",
      "block_9_expand \t prune_low_magnitude_block_9_expand\n",
      "block_9_project \t prune_low_magnitude_block_9_project\n",
      "block_10_expand \t prune_low_magnitude_block_10_expand\n",
      "block_10_project \t prune_low_magnitude_block_10_project\n",
      "block_11_expand \t prune_low_magnitude_block_11_expand\n",
      "block_11_project \t prune_low_magnitude_block_11_project\n",
      "block_12_expand \t prune_low_magnitude_block_12_expand\n",
      "block_12_project \t prune_low_magnitude_block_12_project\n",
      "block_13_expand \t prune_low_magnitude_block_13_expand\n",
      "block_13_project \t prune_low_magnitude_block_13_project\n",
      "block_14_expand \t prune_low_magnitude_block_14_expand\n",
      "block_14_project \t prune_low_magnitude_block_14_project\n",
      "block_15_expand \t prune_low_magnitude_block_15_expand\n",
      "block_15_project \t prune_low_magnitude_block_15_project\n",
      "block_16_expand \t prune_low_magnitude_block_16_expand\n",
      "block_16_project \t prune_low_magnitude_block_16_project\n",
      "Conv_1 \t prune_low_magnitude_Conv_1\n"
     ]
    },
    {
     "ename": "ValueError",
     "evalue": "Weight count mismatch for layer #0 (named prune_low_magnitude_Conv1 in the current model, Conv1 in the save file). Layer expects 4 weight(s). Received 1 saved weight(s)",
     "output_type": "error",
     "traceback": [
      "\u001b[0;31m---------------------------------------------------------------------------\u001b[0m",
      "\u001b[0;31mValueError\u001b[0m                                Traceback (most recent call last)",
      "Cell \u001b[0;32mIn[32], line 15\u001b[0m\n\u001b[1;32m     11\u001b[0m         \u001b[38;5;28;01mreturn\u001b[39;00m layer_i\n\u001b[1;32m     14\u001b[0m pruned_mobilenet \u001b[38;5;241m=\u001b[39m tf\u001b[38;5;241m.\u001b[39mkeras\u001b[38;5;241m.\u001b[39mmodels\u001b[38;5;241m.\u001b[39mclone_model(base_model_trained, clone_function\u001b[38;5;241m=\u001b[39mclone_layers_mobilenet)\n\u001b[0;32m---> 15\u001b[0m \u001b[43mpruned_mobilenet\u001b[49m\u001b[38;5;241;43m.\u001b[39;49m\u001b[43mload_weights\u001b[49m\u001b[43m(\u001b[49m\u001b[38;5;124;43m\"\u001b[39;49m\u001b[38;5;124;43mmobile_net_trained_incidents_1.h5\u001b[39;49m\u001b[38;5;124;43m\"\u001b[39;49m\u001b[43m)\u001b[49m\n\u001b[1;32m     16\u001b[0m sparsity\u001b[38;5;241m.\u001b[39mstrip_pruning(pruned_mobilenet)\n\u001b[1;32m     18\u001b[0m \u001b[38;5;66;03m# pruned_mobilenet.summary(expand_nested=True)\u001b[39;00m\n",
      "File \u001b[0;32m/media/abhishek/data/college/thesis/thesis_with_dr_duc/conda_envs/dlpruning_tf5/lib/python3.11/site-packages/keras/src/utils/traceback_utils.py:70\u001b[0m, in \u001b[0;36mfilter_traceback.<locals>.error_handler\u001b[0;34m(*args, **kwargs)\u001b[0m\n\u001b[1;32m     67\u001b[0m     filtered_tb \u001b[38;5;241m=\u001b[39m _process_traceback_frames(e\u001b[38;5;241m.\u001b[39m__traceback__)\n\u001b[1;32m     68\u001b[0m     \u001b[38;5;66;03m# To get the full stack trace, call:\u001b[39;00m\n\u001b[1;32m     69\u001b[0m     \u001b[38;5;66;03m# `tf.debugging.disable_traceback_filtering()`\u001b[39;00m\n\u001b[0;32m---> 70\u001b[0m     \u001b[38;5;28;01mraise\u001b[39;00m e\u001b[38;5;241m.\u001b[39mwith_traceback(filtered_tb) \u001b[38;5;28;01mfrom\u001b[39;00m \u001b[38;5;28;01mNone\u001b[39;00m\n\u001b[1;32m     71\u001b[0m \u001b[38;5;28;01mfinally\u001b[39;00m:\n\u001b[1;32m     72\u001b[0m     \u001b[38;5;28;01mdel\u001b[39;00m filtered_tb\n",
      "File \u001b[0;32m/media/abhishek/data/college/thesis/thesis_with_dr_duc/conda_envs/dlpruning_tf5/lib/python3.11/site-packages/keras/src/saving/legacy/hdf5_format.py:834\u001b[0m, in \u001b[0;36mload_weights_from_hdf5_group\u001b[0;34m(f, model)\u001b[0m\n\u001b[1;32m    830\u001b[0m     weight_values \u001b[38;5;241m=\u001b[39m preprocess_weights_for_loading(\n\u001b[1;32m    831\u001b[0m         layer, weight_values, original_keras_version, original_backend\n\u001b[1;32m    832\u001b[0m     )\n\u001b[1;32m    833\u001b[0m     \u001b[38;5;28;01mif\u001b[39;00m \u001b[38;5;28mlen\u001b[39m(weight_values) \u001b[38;5;241m!=\u001b[39m \u001b[38;5;28mlen\u001b[39m(symbolic_weights):\n\u001b[0;32m--> 834\u001b[0m         \u001b[38;5;28;01mraise\u001b[39;00m \u001b[38;5;167;01mValueError\u001b[39;00m(\n\u001b[1;32m    835\u001b[0m             \u001b[38;5;124mf\u001b[39m\u001b[38;5;124m\"\u001b[39m\u001b[38;5;124mWeight count mismatch for layer #\u001b[39m\u001b[38;5;132;01m{\u001b[39;00mk\u001b[38;5;132;01m}\u001b[39;00m\u001b[38;5;124m (named \u001b[39m\u001b[38;5;132;01m{\u001b[39;00mlayer\u001b[38;5;241m.\u001b[39mname\u001b[38;5;132;01m}\u001b[39;00m\u001b[38;5;124m in \u001b[39m\u001b[38;5;124m\"\u001b[39m\n\u001b[1;32m    836\u001b[0m             \u001b[38;5;124mf\u001b[39m\u001b[38;5;124m\"\u001b[39m\u001b[38;5;124mthe current model, \u001b[39m\u001b[38;5;132;01m{\u001b[39;00mname\u001b[38;5;132;01m}\u001b[39;00m\u001b[38;5;124m in the save file). \u001b[39m\u001b[38;5;124m\"\u001b[39m\n\u001b[1;32m    837\u001b[0m             \u001b[38;5;124mf\u001b[39m\u001b[38;5;124m\"\u001b[39m\u001b[38;5;124mLayer expects \u001b[39m\u001b[38;5;132;01m{\u001b[39;00m\u001b[38;5;28mlen\u001b[39m(symbolic_weights)\u001b[38;5;132;01m}\u001b[39;00m\u001b[38;5;124m weight(s). Received \u001b[39m\u001b[38;5;124m\"\u001b[39m\n\u001b[1;32m    838\u001b[0m             \u001b[38;5;124mf\u001b[39m\u001b[38;5;124m\"\u001b[39m\u001b[38;5;132;01m{\u001b[39;00m\u001b[38;5;28mlen\u001b[39m(weight_values)\u001b[38;5;132;01m}\u001b[39;00m\u001b[38;5;124m saved weight(s)\u001b[39m\u001b[38;5;124m\"\u001b[39m\n\u001b[1;32m    839\u001b[0m         )\n\u001b[1;32m    840\u001b[0m     weight_value_tuples \u001b[38;5;241m+\u001b[39m\u001b[38;5;241m=\u001b[39m \u001b[38;5;28mzip\u001b[39m(symbolic_weights, weight_values)\n\u001b[1;32m    842\u001b[0m \u001b[38;5;28;01mif\u001b[39;00m \u001b[38;5;124m\"\u001b[39m\u001b[38;5;124mtop_level_model_weights\u001b[39m\u001b[38;5;124m\"\u001b[39m \u001b[38;5;129;01min\u001b[39;00m f:\n",
      "\u001b[0;31mValueError\u001b[0m: Weight count mismatch for layer #0 (named prune_low_magnitude_Conv1 in the current model, Conv1 in the save file). Layer expects 4 weight(s). Received 1 saved weight(s)"
     ]
    }
   ],
   "source": [
    "conv_layers_pruned_size = {}\n",
    "\n",
    "\n",
    "def clone_layers_mobilenet(layer_i):\n",
    "    if isinstance(layer_i, tf.keras.layers.Conv2D):\n",
    "        ret_layer = sparsity.prune_low_magnitude(layer_i, pruning_params_t2, name = layer_i.name)\n",
    "        print(layer_i.name, \"\\t\", ret_layer.name)\n",
    "        # ret_layer.name = layer_i.name\n",
    "        return ret_layer\n",
    "    else:\n",
    "        return layer_i\n",
    "\n",
    "\n",
    "pruned_mobilenet = tf.keras.models.clone_model(base_model_trained, clone_function=clone_layers_mobilenet)\n",
    "pruned_mobilenet.load_weights(\"mobile_net_trained_incidents_1.h5\")\n",
    "sparsity.strip_pruning(pruned_mobilenet)\n",
    "\n",
    "# pruned_mobilenet.summary(expand_nested=True)\n",
    "\n",
    "for layer in pruned_mobilenet.layers:\n",
    "    print(type(layer))\n",
    "    # try:\n",
    "    #     print(tf.math.count_nonzero(layer.trainable_weights))\n",
    "    # except:\n",
    "    #     print(\"bl\\n\")\n",
    "    \n",
    "    if isinstance(layer, tf.keras.layers.Conv2D):\n",
    "        print(layer.name, end=\"\\t\")\n",
    "        print(layer.count_params())\n",
    "        # conv_layers_pruned_size[layer.name] = layer.count_params()\n",
    "        print(tf.math.count_nonzero(layer.trainable_weights, axis=None))\n",
    "        \n",
    "        \n",
    "        # print(tf.math.count_nonzero(layer.trainable_weights, axis=None))\n",
    "\n",
    "print()\n",
    "print(conv_layers_pruned_size)\n",
    "print(sum(conv_layers_pruned_size.values()))"
   ]
  },
  {
   "cell_type": "code",
   "execution_count": 54,
   "id": "f7407a84-840f-4a7c-82e2-cb80cc5b49d6",
   "metadata": {},
   "outputs": [
    {
     "name": "stdout",
     "output_type": "stream",
     "text": [
      "Percentage of non-zero weights in pruning steps: [1.         0.9        0.81       0.729      0.6561     0.59049\n",
      " 0.531441   0.4782969  0.43046721 0.38742049 0.34867844 0.3138106\n",
      " 0.28242954 0.25418658 0.22876792 0.20589113 0.18530202 0.16677182\n",
      " 0.15009464 0.13508517 0.12157665 0.10941899 0.09847709]\n",
      "number of pruning steps:  (23,)\n"
     ]
    }
   ],
   "source": [
    "pruning_curve = []\n",
    "limit = 0.09\n",
    "step_i_size = 1\n",
    "while step_i_size > limit:\n",
    "    pruning_curve.append(step_i_size)\n",
    "    step_i_size *= 0.9\n",
    "pruning_curve = np.asarray(pruning_curve)\n",
    "np.round(pruning_curve, 3)\n",
    "print(\"Percentage of non-zero weights in pruning steps:\", pruning_curve)\n",
    "print(\"number of pruning steps: \", pruning_curve.shape)"
   ]
  },
  {
   "cell_type": "code",
   "execution_count": 48,
   "id": "03e759be-2353-410f-a943-58ec0d35b956",
   "metadata": {},
   "outputs": [
    {
     "name": "stdout",
     "output_type": "stream",
     "text": [
      "block_9_expand\n",
      "block_9_project\n",
      "block_10_expand\n",
      "block_10_project\n",
      "block_11_expand\n",
      "block_11_project\n",
      "block_12_expand\n",
      "block_12_project\n",
      "block_13_expand\n",
      "block_13_project\n",
      "block_14_expand\n",
      "block_14_project\n",
      "block_15_expand\n",
      "block_15_project\n",
      "block_16_expand\n",
      "block_16_project\n",
      "Conv_1\n"
     ]
    },
    {
     "ename": "IndexError",
     "evalue": "list index out of range",
     "output_type": "error",
     "traceback": [
      "\u001b[0;31m---------------------------------------------------------------------------\u001b[0m",
      "\u001b[0;31mIndexError\u001b[0m                                Traceback (most recent call last)",
      "Cell \u001b[0;32mIn[48], line 8\u001b[0m\n\u001b[1;32m      6\u001b[0m i\u001b[38;5;241m+\u001b[39m\u001b[38;5;241m=\u001b[39m\u001b[38;5;241m1\u001b[39m\n\u001b[1;32m      7\u001b[0m \u001b[38;5;28;01mif\u001b[39;00m i \u001b[38;5;241m>\u001b[39m \u001b[38;5;241m17\u001b[39m:\n\u001b[0;32m----> 8\u001b[0m     \u001b[38;5;28mprint\u001b[39m(\u001b[38;5;28;43mlist\u001b[39;49m\u001b[43m(\u001b[49m\u001b[43mconv_layers_full_size\u001b[49m\u001b[38;5;241;43m.\u001b[39;49m\u001b[43mkeys\u001b[49m\u001b[43m(\u001b[49m\u001b[43m)\u001b[49m\u001b[43m)\u001b[49m\u001b[43m[\u001b[49m\u001b[43mi\u001b[49m\u001b[43m]\u001b[49m)\n",
      "\u001b[0;31mIndexError\u001b[0m: list index out of range"
     ]
    }
   ],
   "source": [
    "conv_layers_pruning_steps = {}\n",
    "\n",
    "i = 0\n",
    "for k,v in conv_layers_full_size.items():\n",
    "    \n",
    "    i+=1\n",
    "    if i > 17:\n",
    "        print(list(conv_layers_full_size.keys())[i])\n",
    "        original_size = v\n",
    "        step_k_size = original_size\n",
    "        while step_k_size > original_size / 1       "
   ]
  },
  {
   "cell_type": "code",
   "execution_count": 53,
   "id": "e25896bc-c698-40e4-8f46-95d7d771d143",
   "metadata": {},
   "outputs": [
    {
     "data": {
      "text/plain": [
       "(23,)"
      ]
     },
     "execution_count": 53,
     "metadata": {},
     "output_type": "execute_result"
    }
   ],
   "source": [
    "pruning_curve = []\n",
    "limit = 0.09\n",
    "step_i_size = 1\n",
    "while step_i_size > limit:\n",
    "    pruning_curve.append(step_i_size)\n",
    "    step_i_size *= 0.9\n",
    "pruning_curve = np.asarray(pruning_curve)\n",
    "np.round(pruning_curve, 3)\n",
    "pruning_curve.shape"
   ]
  },
  {
   "cell_type": "code",
   "execution_count": 44,
   "id": "f5566eee-5cc6-4544-862c-5da51550e54f",
   "metadata": {},
   "outputs": [
    {
     "data": {
      "text/plain": [
       "35"
      ]
     },
     "execution_count": 44,
     "metadata": {},
     "output_type": "execute_result"
    }
   ],
   "source": [
    "len(conv_layers_full_size)"
   ]
  },
  {
   "cell_type": "code",
   "execution_count": null,
   "id": "a501ef30-7879-44e7-bd90-02df4236e90e",
   "metadata": {},
   "outputs": [],
   "source": []
  },
  {
   "cell_type": "code",
   "execution_count": null,
   "id": "1f945a27-acf6-4cbf-91ad-04941686906e",
   "metadata": {},
   "outputs": [],
   "source": []
  },
  {
   "cell_type": "code",
   "execution_count": null,
   "id": "e872fb81-0447-47ba-b73e-8ba70758ffcd",
   "metadata": {},
   "outputs": [],
   "source": []
  },
  {
   "cell_type": "code",
   "execution_count": null,
   "id": "8d18706f-2b3c-4b22-8d61-c02de453f22a",
   "metadata": {},
   "outputs": [],
   "source": []
  },
  {
   "cell_type": "markdown",
   "id": "fa705d19-6fdc-4043-8c03-0ae685e53f25",
   "metadata": {},
   "source": [
    "### 4. Fine tuning\n",
    "Unfreeze the top layers"
   ]
  },
  {
   "cell_type": "code",
   "execution_count": null,
   "id": "5c079bd1-684e-4967-aa74-ce57c1c449f7",
   "metadata": {},
   "outputs": [],
   "source": []
  },
  {
   "cell_type": "code",
   "execution_count": 28,
   "id": "400c35da-6a63-46eb-aad9-6b649e57e675",
   "metadata": {},
   "outputs": [],
   "source": [
    "base_model.trainable = True\n"
   ]
  },
  {
   "cell_type": "code",
   "execution_count": 24,
   "id": "c0447bd0-a9d5-4be9-b1e7-420e55afc0fb",
   "metadata": {},
   "outputs": [
    {
     "name": "stdout",
     "output_type": "stream",
     "text": [
      "Number of layers in the base model:  154\n"
     ]
    }
   ],
   "source": [
    "# Let's take a look to see how many layers are in the base model\n",
    "print(\"Number of layers in the base model: \", len(base_model.layers))\n",
    "\n",
    "# Fine-tune from this layer onwards\n",
    "fine_tune_at = 100\n",
    "\n",
    "# Freeze all the layers before the `fine_tune_at` layer\n",
    "for layer in base_model.layers[:fine_tune_at]:\n",
    "  layer.trainable = False"
   ]
  },
  {
   "cell_type": "code",
   "execution_count": null,
   "id": "bd69dda5-f01e-4bcf-bb44-6c3ec2d62c9e",
   "metadata": {},
   "outputs": [],
   "source": []
  }
 ],
 "metadata": {
  "kernelspec": {
   "display_name": "Python 3 (ipykernel)",
   "language": "python",
   "name": "python3"
  },
  "language_info": {
   "codemirror_mode": {
    "name": "ipython",
    "version": 3
   },
   "file_extension": ".py",
   "mimetype": "text/x-python",
   "name": "python",
   "nbconvert_exporter": "python",
   "pygments_lexer": "ipython3",
   "version": "3.11.5"
  }
 },
 "nbformat": 4,
 "nbformat_minor": 5
}
